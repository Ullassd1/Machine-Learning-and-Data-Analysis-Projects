{
 "cells": [
  {
   "cell_type": "markdown",
   "id": "9ca58189",
   "metadata": {},
   "source": [
    "#### Problem Statement:\n",
    "- The ‘Life Expectancy’ dataset contains information about several health and economic factors that contribute to average life expectancy for different countries. It is our aim to study how these various factors impact the average life expectancy in the given countries"
   ]
  },
  {
   "cell_type": "markdown",
   "id": "5008d8ef",
   "metadata": {},
   "source": [
    "- Variable information:\n",
    "- Country: Name of the country\n",
    "- Status: Whether the country is Developed or Developing\n",
    "- Adult_Mortality: Mortality rate for age group 15-60 out of every 1000 individuals of the population\n",
    "- Infant_Deaths: Number of infant deaths per 1000 population\n",
    "- Hepatitis: Hepatitis B (HepB) immunization coverage for 1-year olds (Percentage)\n",
    "- Measles: Number of reported cases for measles per 1000 from population\n",
    "- BMI: Average Body Mass Index for entire population\n",
    "- Underfive_Deaths: Number of deaths under 5 years of age per 1000 population\n",
    "- Polio: Polio (Pol3) immunization coverage for 1-year olds (Percentage)\n",
    "- Diphtheria: Diphtheria tetanus toxoid and pertussis (DTP3) immunization coverage for 1-year olds (Percentage)\n",
    "- HIV: Deaths per 1000 live births due to HIV/AIDS (0-4 years)\n",
    "- GDP: Gross Domestic Product per capita (in USD)\n",
    "- Population: Population of the country\n",
    "- Malnourished10_19: Prevalence of malnutrition among children and adolescents for Age 10 to 19 (Percentage)\n",
    "- Malnourished5_9: Prevalence of malnutrition among children for Age 5 to 9 (Percentage)\n",
    "- Income_Index: Human Development Index (HDI) in terms of national income per capita (index ranging from 0 to 1)\n",
    "- Schooling: Number of years of Schooling\n",
    "- Life_Expectancy: Life Expectancy in age for the country\n",
    "- Build the full model, find the significant contributors and share the post model conclusions."
   ]
  },
  {
   "cell_type": "code",
   "execution_count": 1,
   "id": "3e0911ba",
   "metadata": {},
   "outputs": [],
   "source": [
    "# import 'Pandas' \n",
    "import pandas as pd \n",
    "\n",
    "# import 'Numpy' \n",
    "import numpy as np\n",
    "\n",
    "# import subpackage of Matplotlib\n",
    "import matplotlib.pyplot as plt\n",
    "\n",
    "# import 'Seaborn' \n",
    "import seaborn as sns\n",
    "\n",
    "# to suppress warnings \n",
    "from warnings import filterwarnings\n",
    "filterwarnings('ignore')\n",
    "\n",
    "# display all columns of the dataframe\n",
    "pd.options.display.max_columns = None\n",
    "\n",
    "# display all rows of the dataframe\n",
    "pd.options.display.max_rows = None\n",
    " \n",
    "# to display the float values upto 6 decimal places     \n",
    "pd.options.display.float_format = '{:.6f}'.format\n",
    "\n",
    "# import train-test split \n",
    "from sklearn.model_selection import train_test_split\n",
    "\n",
    "# import various functions from statsmodels\n",
    "import statsmodels\n",
    "import statsmodels.api as sm\n",
    "\n",
    "# import 'stats'\n",
    "from scipy import stats\n",
    "\n",
    "# 'metrics' from sklearn is used for evaluating the model performance\n",
    "from sklearn.metrics import mean_squared_error\n",
    "from sklearn.metrics import mean_absolute_error\n",
    "\n",
    "\n",
    "# import function to perform linear regression\n",
    "from sklearn.linear_model import LinearRegression\n",
    "\n",
    "# import StandardScaler to perform scaling\n",
    "from sklearn.preprocessing import StandardScaler \n",
    "\n",
    "# import SGDRegressor from sklearn to perform linear regression with stochastic gradient descent\n",
    "from sklearn.linear_model import SGDRegressor\n",
    "\n",
    "# import function for ridge regression\n",
    "from sklearn.linear_model import Ridge\n",
    "\n",
    "# import function for lasso regression\n",
    "from sklearn.linear_model import Lasso\n",
    "\n",
    "# import function for elastic net regression\n",
    "from sklearn.linear_model import ElasticNet\n",
    "\n",
    "# import function to perform GridSearchCV\n",
    "from sklearn.model_selection import GridSearchCV"
   ]
  },
  {
   "cell_type": "code",
   "execution_count": 2,
   "id": "2d19ec7c",
   "metadata": {},
   "outputs": [],
   "source": [
    "# Load the dataset\n",
    "data = pd.read_csv('Life expectancy.csv')"
   ]
  },
  {
   "cell_type": "code",
   "execution_count": 3,
   "id": "4a6a826c",
   "metadata": {},
   "outputs": [
    {
     "data": {
      "text/html": [
       "<div>\n",
       "<style scoped>\n",
       "    .dataframe tbody tr th:only-of-type {\n",
       "        vertical-align: middle;\n",
       "    }\n",
       "\n",
       "    .dataframe tbody tr th {\n",
       "        vertical-align: top;\n",
       "    }\n",
       "\n",
       "    .dataframe thead th {\n",
       "        text-align: right;\n",
       "    }\n",
       "</style>\n",
       "<table border=\"1\" class=\"dataframe\">\n",
       "  <thead>\n",
       "    <tr style=\"text-align: right;\">\n",
       "      <th></th>\n",
       "      <th>Country</th>\n",
       "      <th>Status</th>\n",
       "      <th>Adult_Mortality</th>\n",
       "      <th>Infant_Deaths</th>\n",
       "      <th>Hepatitis</th>\n",
       "      <th>Measles</th>\n",
       "      <th>BMI</th>\n",
       "      <th>Underfive_Deaths</th>\n",
       "      <th>Polio</th>\n",
       "      <th>Diphtheria</th>\n",
       "      <th>HIV</th>\n",
       "      <th>GDP</th>\n",
       "      <th>Population</th>\n",
       "      <th>Malnourished10_19</th>\n",
       "      <th>Malnourished5_9</th>\n",
       "      <th>Income_Index</th>\n",
       "      <th>Schooling</th>\n",
       "      <th>Expected</th>\n",
       "    </tr>\n",
       "  </thead>\n",
       "  <tbody>\n",
       "    <tr>\n",
       "      <th>0</th>\n",
       "      <td>Afghanistan</td>\n",
       "      <td>Developing</td>\n",
       "      <td>263</td>\n",
       "      <td>62.000000</td>\n",
       "      <td>65.000000</td>\n",
       "      <td>1154</td>\n",
       "      <td>19.100000</td>\n",
       "      <td>NaN</td>\n",
       "      <td>6</td>\n",
       "      <td>65</td>\n",
       "      <td>0.100000</td>\n",
       "      <td>584.259210</td>\n",
       "      <td>33736494</td>\n",
       "      <td>17.200000</td>\n",
       "      <td>17.300000</td>\n",
       "      <td>0.479000</td>\n",
       "      <td>NaN</td>\n",
       "      <td>65.000000</td>\n",
       "    </tr>\n",
       "    <tr>\n",
       "      <th>1</th>\n",
       "      <td>Albania</td>\n",
       "      <td>Developing</td>\n",
       "      <td>8</td>\n",
       "      <td>0.000000</td>\n",
       "      <td>98.000000</td>\n",
       "      <td>0</td>\n",
       "      <td>57.200000</td>\n",
       "      <td>NaN</td>\n",
       "      <td>98</td>\n",
       "      <td>98</td>\n",
       "      <td>0.100000</td>\n",
       "      <td>4575.763787</td>\n",
       "      <td>288914</td>\n",
       "      <td>1.200000</td>\n",
       "      <td>1.300000</td>\n",
       "      <td>0.761000</td>\n",
       "      <td>14.200000</td>\n",
       "      <td>77.500000</td>\n",
       "    </tr>\n",
       "    <tr>\n",
       "      <th>2</th>\n",
       "      <td>Algeria</td>\n",
       "      <td>Developing</td>\n",
       "      <td>19</td>\n",
       "      <td>21.000000</td>\n",
       "      <td>95.000000</td>\n",
       "      <td>63</td>\n",
       "      <td>59.500000</td>\n",
       "      <td>NaN</td>\n",
       "      <td>95</td>\n",
       "      <td>95</td>\n",
       "      <td>0.100000</td>\n",
       "      <td>4132.762920</td>\n",
       "      <td>39871528</td>\n",
       "      <td>6.000000</td>\n",
       "      <td>5.800000</td>\n",
       "      <td>0.743000</td>\n",
       "      <td>14.400000</td>\n",
       "      <td>75.600000</td>\n",
       "    </tr>\n",
       "    <tr>\n",
       "      <th>3</th>\n",
       "      <td>Angola</td>\n",
       "      <td>Developing</td>\n",
       "      <td>335</td>\n",
       "      <td>66.000000</td>\n",
       "      <td>64.000000</td>\n",
       "      <td>118</td>\n",
       "      <td>23.300000</td>\n",
       "      <td>NaN</td>\n",
       "      <td>7</td>\n",
       "      <td>64</td>\n",
       "      <td>1.900000</td>\n",
       "      <td>3695.793748</td>\n",
       "      <td>2785935</td>\n",
       "      <td>8.300000</td>\n",
       "      <td>8.200000</td>\n",
       "      <td>0.531000</td>\n",
       "      <td>11.400000</td>\n",
       "      <td>52.400000</td>\n",
       "    </tr>\n",
       "    <tr>\n",
       "      <th>4</th>\n",
       "      <td>Argentina</td>\n",
       "      <td>Developing</td>\n",
       "      <td>116</td>\n",
       "      <td>8.000000</td>\n",
       "      <td>94.000000</td>\n",
       "      <td>0</td>\n",
       "      <td>62.800000</td>\n",
       "      <td>NaN</td>\n",
       "      <td>93</td>\n",
       "      <td>94</td>\n",
       "      <td>0.100000</td>\n",
       "      <td>13467.123600</td>\n",
       "      <td>43417765</td>\n",
       "      <td>1.000000</td>\n",
       "      <td>0.900000</td>\n",
       "      <td>0.826000</td>\n",
       "      <td>17.300000</td>\n",
       "      <td>76.300000</td>\n",
       "    </tr>\n",
       "  </tbody>\n",
       "</table>\n",
       "</div>"
      ],
      "text/plain": [
       "       Country      Status  Adult_Mortality  Infant_Deaths  Hepatitis   \\\n",
       "0  Afghanistan  Developing              263      62.000000   65.000000   \n",
       "1      Albania  Developing                8       0.000000   98.000000   \n",
       "2      Algeria  Developing               19      21.000000   95.000000   \n",
       "3       Angola  Developing              335      66.000000   64.000000   \n",
       "4    Argentina  Developing              116       8.000000   94.000000   \n",
       "\n",
       "   Measles       BMI   Underfive_Deaths   Polio  Diphtheria       HIV  \\\n",
       "0      1154 19.100000                NaN      6           65 0.100000   \n",
       "1         0 57.200000                NaN     98           98 0.100000   \n",
       "2        63 59.500000                NaN     95           95 0.100000   \n",
       "3       118 23.300000                NaN      7           64 1.900000   \n",
       "4         0 62.800000                NaN     93           94 0.100000   \n",
       "\n",
       "           GDP  Population  Malnourished10_19   Malnourished5_9  Income_Index  \\\n",
       "0   584.259210    33736494           17.200000        17.300000      0.479000   \n",
       "1  4575.763787      288914            1.200000         1.300000      0.761000   \n",
       "2  4132.762920    39871528            6.000000         5.800000      0.743000   \n",
       "3  3695.793748     2785935            8.300000         8.200000      0.531000   \n",
       "4 13467.123600    43417765            1.000000         0.900000      0.826000   \n",
       "\n",
       "   Schooling  Expected  \n",
       "0        NaN 65.000000  \n",
       "1  14.200000 77.500000  \n",
       "2  14.400000 75.600000  \n",
       "3  11.400000 52.400000  \n",
       "4  17.300000 76.300000  "
      ]
     },
     "execution_count": 3,
     "metadata": {},
     "output_type": "execute_result"
    }
   ],
   "source": [
    "data.head()"
   ]
  },
  {
   "cell_type": "code",
   "execution_count": 4,
   "id": "d134ca6e",
   "metadata": {},
   "outputs": [
    {
     "name": "stdout",
     "output_type": "stream",
     "text": [
      "<class 'pandas.core.frame.DataFrame'>\n",
      "RangeIndex: 124 entries, 0 to 123\n",
      "Data columns (total 18 columns):\n",
      " #   Column              Non-Null Count  Dtype  \n",
      "---  ------              --------------  -----  \n",
      " 0   Country             124 non-null    object \n",
      " 1   Status              124 non-null    object \n",
      " 2   Adult_Mortality     124 non-null    int64  \n",
      " 3   Infant_Deaths       110 non-null    float64\n",
      " 4   Hepatitis           119 non-null    float64\n",
      " 5   Measles             124 non-null    int64  \n",
      " 6    BMI                124 non-null    float64\n",
      " 7   Underfive_Deaths    119 non-null    float64\n",
      " 8   Polio               124 non-null    int64  \n",
      " 9   Diphtheria          124 non-null    int64  \n",
      " 10   HIV                124 non-null    float64\n",
      " 11  GDP                 124 non-null    float64\n",
      " 12  Population          124 non-null    int64  \n",
      " 13  Malnourished10_19   124 non-null    float64\n",
      " 14  Malnourished5_9     124 non-null    float64\n",
      " 15  Income_Index        121 non-null    float64\n",
      " 16  Schooling           119 non-null    float64\n",
      " 17  Expected            124 non-null    float64\n",
      "dtypes: float64(11), int64(5), object(2)\n",
      "memory usage: 17.6+ KB\n"
     ]
    }
   ],
   "source": [
    "data.info()"
   ]
  },
  {
   "cell_type": "code",
   "execution_count": 5,
   "id": "9c42181a",
   "metadata": {},
   "outputs": [
    {
     "data": {
      "text/html": [
       "<div>\n",
       "<style scoped>\n",
       "    .dataframe tbody tr th:only-of-type {\n",
       "        vertical-align: middle;\n",
       "    }\n",
       "\n",
       "    .dataframe tbody tr th {\n",
       "        vertical-align: top;\n",
       "    }\n",
       "\n",
       "    .dataframe thead th {\n",
       "        text-align: right;\n",
       "    }\n",
       "</style>\n",
       "<table border=\"1\" class=\"dataframe\">\n",
       "  <thead>\n",
       "    <tr style=\"text-align: right;\">\n",
       "      <th></th>\n",
       "      <th>Adult_Mortality</th>\n",
       "      <th>Infant_Deaths</th>\n",
       "      <th>Hepatitis</th>\n",
       "      <th>Measles</th>\n",
       "      <th>BMI</th>\n",
       "      <th>Underfive_Deaths</th>\n",
       "      <th>Polio</th>\n",
       "      <th>Diphtheria</th>\n",
       "      <th>HIV</th>\n",
       "      <th>GDP</th>\n",
       "      <th>Population</th>\n",
       "      <th>Malnourished10_19</th>\n",
       "      <th>Malnourished5_9</th>\n",
       "      <th>Income_Index</th>\n",
       "      <th>Schooling</th>\n",
       "      <th>Expected</th>\n",
       "    </tr>\n",
       "  </thead>\n",
       "  <tbody>\n",
       "    <tr>\n",
       "      <th>count</th>\n",
       "      <td>124.000000</td>\n",
       "      <td>110.000000</td>\n",
       "      <td>119.000000</td>\n",
       "      <td>124.000000</td>\n",
       "      <td>124.000000</td>\n",
       "      <td>119.000000</td>\n",
       "      <td>124.000000</td>\n",
       "      <td>124.000000</td>\n",
       "      <td>124.000000</td>\n",
       "      <td>124.000000</td>\n",
       "      <td>124.000000</td>\n",
       "      <td>124.000000</td>\n",
       "      <td>124.000000</td>\n",
       "      <td>121.000000</td>\n",
       "      <td>119.000000</td>\n",
       "      <td>124.000000</td>\n",
       "    </tr>\n",
       "    <tr>\n",
       "      <th>mean</th>\n",
       "      <td>160.475806</td>\n",
       "      <td>28.545455</td>\n",
       "      <td>87.596639</td>\n",
       "      <td>2841.637097</td>\n",
       "      <td>41.733871</td>\n",
       "      <td>43.957983</td>\n",
       "      <td>86.637097</td>\n",
       "      <td>87.919355</td>\n",
       "      <td>0.819355</td>\n",
       "      <td>6866.816502</td>\n",
       "      <td>19606036.048387</td>\n",
       "      <td>4.180645</td>\n",
       "      <td>4.373387</td>\n",
       "      <td>15.874140</td>\n",
       "      <td>14.670588</td>\n",
       "      <td>71.220968</td>\n",
       "    </tr>\n",
       "    <tr>\n",
       "      <th>std</th>\n",
       "      <td>101.794506</td>\n",
       "      <td>100.156267</td>\n",
       "      <td>24.578590</td>\n",
       "      <td>11517.586950</td>\n",
       "      <td>21.186385</td>\n",
       "      <td>158.755563</td>\n",
       "      <td>21.653342</td>\n",
       "      <td>19.122879</td>\n",
       "      <td>1.764127</td>\n",
       "      <td>10885.243579</td>\n",
       "      <td>41007621.897546</td>\n",
       "      <td>4.086736</td>\n",
       "      <td>4.212797</td>\n",
       "      <td>117.829559</td>\n",
       "      <td>11.668953</td>\n",
       "      <td>8.467924</td>\n",
       "    </tr>\n",
       "    <tr>\n",
       "      <th>min</th>\n",
       "      <td>3.000000</td>\n",
       "      <td>0.000000</td>\n",
       "      <td>6.000000</td>\n",
       "      <td>0.000000</td>\n",
       "      <td>2.100000</td>\n",
       "      <td>0.000000</td>\n",
       "      <td>6.000000</td>\n",
       "      <td>6.000000</td>\n",
       "      <td>0.100000</td>\n",
       "      <td>5.668726</td>\n",
       "      <td>8381.000000</td>\n",
       "      <td>0.300000</td>\n",
       "      <td>0.200000</td>\n",
       "      <td>0.000000</td>\n",
       "      <td>0.000000</td>\n",
       "      <td>48.600000</td>\n",
       "    </tr>\n",
       "    <tr>\n",
       "      <th>25%</th>\n",
       "      <td>73.500000</td>\n",
       "      <td>0.000000</td>\n",
       "      <td>85.000000</td>\n",
       "      <td>0.750000</td>\n",
       "      <td>20.950000</td>\n",
       "      <td>1.000000</td>\n",
       "      <td>88.000000</td>\n",
       "      <td>89.000000</td>\n",
       "      <td>0.100000</td>\n",
       "      <td>639.799727</td>\n",
       "      <td>821556.000000</td>\n",
       "      <td>1.500000</td>\n",
       "      <td>1.575000</td>\n",
       "      <td>0.511000</td>\n",
       "      <td>11.400000</td>\n",
       "      <td>65.175000</td>\n",
       "    </tr>\n",
       "    <tr>\n",
       "      <th>50%</th>\n",
       "      <td>139.500000</td>\n",
       "      <td>4.000000</td>\n",
       "      <td>94.000000</td>\n",
       "      <td>37.000000</td>\n",
       "      <td>54.100000</td>\n",
       "      <td>7.000000</td>\n",
       "      <td>95.000000</td>\n",
       "      <td>95.000000</td>\n",
       "      <td>0.100000</td>\n",
       "      <td>2728.291765</td>\n",
       "      <td>4234054.000000</td>\n",
       "      <td>2.400000</td>\n",
       "      <td>2.800000</td>\n",
       "      <td>0.734000</td>\n",
       "      <td>13.600000</td>\n",
       "      <td>72.200000</td>\n",
       "    </tr>\n",
       "    <tr>\n",
       "      <th>75%</th>\n",
       "      <td>234.000000</td>\n",
       "      <td>19.750000</td>\n",
       "      <td>97.500000</td>\n",
       "      <td>588.750000</td>\n",
       "      <td>59.750000</td>\n",
       "      <td>23.500000</td>\n",
       "      <td>98.000000</td>\n",
       "      <td>98.000000</td>\n",
       "      <td>0.400000</td>\n",
       "      <td>8437.562893</td>\n",
       "      <td>14827671.000000</td>\n",
       "      <td>6.425000</td>\n",
       "      <td>6.425000</td>\n",
       "      <td>0.799000</td>\n",
       "      <td>15.200000</td>\n",
       "      <td>77.500000</td>\n",
       "    </tr>\n",
       "    <tr>\n",
       "      <th>max</th>\n",
       "      <td>438.000000</td>\n",
       "      <td>910.000000</td>\n",
       "      <td>198.000000</td>\n",
       "      <td>90387.000000</td>\n",
       "      <td>71.400000</td>\n",
       "      <td>1110.000000</td>\n",
       "      <td>99.000000</td>\n",
       "      <td>99.000000</td>\n",
       "      <td>8.100000</td>\n",
       "      <td>56554.387600</td>\n",
       "      <td>258162113.000000</td>\n",
       "      <td>26.700000</td>\n",
       "      <td>27.300000</td>\n",
       "      <td>923.000000</td>\n",
       "      <td>101.000000</td>\n",
       "      <td>86.000000</td>\n",
       "    </tr>\n",
       "  </tbody>\n",
       "</table>\n",
       "</div>"
      ],
      "text/plain": [
       "       Adult_Mortality  Infant_Deaths  Hepatitis      Measles        BMI   \\\n",
       "count       124.000000     110.000000  119.000000   124.000000 124.000000   \n",
       "mean        160.475806      28.545455   87.596639  2841.637097  41.733871   \n",
       "std         101.794506     100.156267   24.578590 11517.586950  21.186385   \n",
       "min           3.000000       0.000000    6.000000     0.000000   2.100000   \n",
       "25%          73.500000       0.000000   85.000000     0.750000  20.950000   \n",
       "50%         139.500000       4.000000   94.000000    37.000000  54.100000   \n",
       "75%         234.000000      19.750000   97.500000   588.750000  59.750000   \n",
       "max         438.000000     910.000000  198.000000 90387.000000  71.400000   \n",
       "\n",
       "       Underfive_Deaths       Polio  Diphtheria         HIV          GDP  \\\n",
       "count         119.000000 124.000000   124.000000 124.000000   124.000000   \n",
       "mean           43.957983  86.637097    87.919355   0.819355  6866.816502   \n",
       "std           158.755563  21.653342    19.122879   1.764127 10885.243579   \n",
       "min             0.000000   6.000000     6.000000   0.100000     5.668726   \n",
       "25%             1.000000  88.000000    89.000000   0.100000   639.799727   \n",
       "50%             7.000000  95.000000    95.000000   0.100000  2728.291765   \n",
       "75%            23.500000  98.000000    98.000000   0.400000  8437.562893   \n",
       "max          1110.000000  99.000000    99.000000   8.100000 56554.387600   \n",
       "\n",
       "            Population  Malnourished10_19   Malnourished5_9  Income_Index  \\\n",
       "count       124.000000          124.000000       124.000000    121.000000   \n",
       "mean   19606036.048387            4.180645         4.373387     15.874140   \n",
       "std    41007621.897546            4.086736         4.212797    117.829559   \n",
       "min        8381.000000            0.300000         0.200000      0.000000   \n",
       "25%      821556.000000            1.500000         1.575000      0.511000   \n",
       "50%     4234054.000000            2.400000         2.800000      0.734000   \n",
       "75%    14827671.000000            6.425000         6.425000      0.799000   \n",
       "max   258162113.000000           26.700000        27.300000    923.000000   \n",
       "\n",
       "       Schooling   Expected  \n",
       "count 119.000000 124.000000  \n",
       "mean   14.670588  71.220968  \n",
       "std    11.668953   8.467924  \n",
       "min     0.000000  48.600000  \n",
       "25%    11.400000  65.175000  \n",
       "50%    13.600000  72.200000  \n",
       "75%    15.200000  77.500000  \n",
       "max   101.000000  86.000000  "
      ]
     },
     "execution_count": 5,
     "metadata": {},
     "output_type": "execute_result"
    }
   ],
   "source": [
    "data.describe()"
   ]
  },
  {
   "cell_type": "code",
   "execution_count": 6,
   "id": "f27d8eb5",
   "metadata": {},
   "outputs": [],
   "source": [
    "# drop the column 'Country' using drop()\n",
    "# 'axis = 1' drops the specified column\n",
    "data = data.drop('Country',axis=1)"
   ]
  },
  {
   "cell_type": "code",
   "execution_count": 7,
   "id": "f2febc3f",
   "metadata": {},
   "outputs": [
    {
     "data": {
      "text/plain": [
       "Status                 0\n",
       "Adult_Mortality        0\n",
       "Infant_Deaths         14\n",
       "Hepatitis              5\n",
       "Measles                0\n",
       " BMI                   0\n",
       "Underfive_Deaths       5\n",
       "Polio                  0\n",
       "Diphtheria             0\n",
       " HIV                   0\n",
       "GDP                    0\n",
       "Population             0\n",
       "Malnourished10_19      0\n",
       "Malnourished5_9        0\n",
       "Income_Index           3\n",
       "Schooling              5\n",
       "Expected               0\n",
       "dtype: int64"
      ]
     },
     "execution_count": 7,
     "metadata": {},
     "output_type": "execute_result"
    }
   ],
   "source": [
    "data.isnull().sum()"
   ]
  },
  {
   "cell_type": "code",
   "execution_count": 8,
   "id": "f473b76a",
   "metadata": {},
   "outputs": [],
   "source": [
    "# Impute missing values with median\n",
    "# Replace missing values with the median\n",
    "data['Infant_Deaths'].fillna(data['Infant_Deaths'].median(), inplace=True)\n",
    "data['Hepatitis '].fillna(data['Hepatitis '].median(), inplace=True)\n",
    "data['Underfive_Deaths '].fillna(data['Underfive_Deaths '].median(), inplace=True)\n",
    "data['Income_Index'].fillna(data['Income_Index'].median(), inplace=True)\n",
    "data['Schooling'].fillna(data['Schooling'].median(), inplace=True)"
   ]
  },
  {
   "cell_type": "code",
   "execution_count": 9,
   "id": "0ee6fd3c",
   "metadata": {},
   "outputs": [
    {
     "data": {
      "text/plain": [
       "Status                0\n",
       "Adult_Mortality       0\n",
       "Infant_Deaths         0\n",
       "Hepatitis             0\n",
       "Measles               0\n",
       " BMI                  0\n",
       "Underfive_Deaths      0\n",
       "Polio                 0\n",
       "Diphtheria            0\n",
       " HIV                  0\n",
       "GDP                   0\n",
       "Population            0\n",
       "Malnourished10_19     0\n",
       "Malnourished5_9       0\n",
       "Income_Index          0\n",
       "Schooling             0\n",
       "Expected              0\n",
       "dtype: int64"
      ]
     },
     "execution_count": 9,
     "metadata": {},
     "output_type": "execute_result"
    }
   ],
   "source": [
    "data.isnull().sum()"
   ]
  },
  {
   "cell_type": "code",
   "execution_count": 10,
   "id": "5fb43b89",
   "metadata": {},
   "outputs": [
    {
     "data": {
      "text/plain": [
       "(16,)"
      ]
     },
     "execution_count": 10,
     "metadata": {},
     "output_type": "execute_result"
    }
   ],
   "source": [
    "df_num = data.select_dtypes(include=[np.number])\n",
    "df_num.columns.shape"
   ]
  },
  {
   "cell_type": "code",
   "execution_count": 11,
   "id": "094b4c67",
   "metadata": {},
   "outputs": [
    {
     "data": {
      "text/plain": [
       "Adult_Mortality         int64\n",
       "Infant_Deaths         float64\n",
       "Hepatitis             float64\n",
       "Measles                 int64\n",
       " BMI                  float64\n",
       "Underfive_Deaths      float64\n",
       "Polio                   int64\n",
       "Diphtheria              int64\n",
       " HIV                  float64\n",
       "GDP                   float64\n",
       "Population              int64\n",
       "Malnourished10_19     float64\n",
       "Malnourished5_9       float64\n",
       "Income_Index          float64\n",
       "Schooling             float64\n",
       "Expected              float64\n",
       "dtype: object"
      ]
     },
     "execution_count": 11,
     "metadata": {},
     "output_type": "execute_result"
    }
   ],
   "source": [
    "df_num.dtypes"
   ]
  },
  {
   "cell_type": "code",
   "execution_count": 12,
   "id": "753036b3",
   "metadata": {},
   "outputs": [
    {
     "data": {
      "text/plain": [
       "Index(['Status'], dtype='object')"
      ]
     },
     "execution_count": 12,
     "metadata": {},
     "output_type": "execute_result"
    }
   ],
   "source": [
    "df_cat = data.select_dtypes(include = [object])\n",
    "df_cat.columns"
   ]
  },
  {
   "cell_type": "code",
   "execution_count": 13,
   "id": "9fa42556",
   "metadata": {},
   "outputs": [],
   "source": [
    "# Separate numerical and categorical features\n",
    "numerical_features = data.select_dtypes(include=['float64', 'int64']).columns\n",
    "\n",
    "categorical_features = data.select_dtypes(include=['object']).columns\n",
    "\n",
    "# Scale numerical features\n",
    "scaler = StandardScaler()\n",
    "data[numerical_features] = scaler.fit_transform(data[numerical_features])"
   ]
  },
  {
   "cell_type": "code",
   "execution_count": 14,
   "id": "045095c3",
   "metadata": {},
   "outputs": [
    {
     "data": {
      "text/plain": [
       "dtype('O')"
      ]
     },
     "execution_count": 14,
     "metadata": {},
     "output_type": "execute_result"
    }
   ],
   "source": [
    "numerical_features.dtype"
   ]
  },
  {
   "cell_type": "code",
   "execution_count": 15,
   "id": "4d341501",
   "metadata": {},
   "outputs": [],
   "source": [
    "df_num = data[numerical_features]"
   ]
  },
  {
   "cell_type": "code",
   "execution_count": 16,
   "id": "291d63b8",
   "metadata": {},
   "outputs": [],
   "source": [
    "dummy_var = pd.get_dummies(data=df_cat, drop_first=True, dtype=int)"
   ]
  },
  {
   "cell_type": "code",
   "execution_count": 17,
   "id": "99b1c319",
   "metadata": {},
   "outputs": [
    {
     "data": {
      "text/html": [
       "<div>\n",
       "<style scoped>\n",
       "    .dataframe tbody tr th:only-of-type {\n",
       "        vertical-align: middle;\n",
       "    }\n",
       "\n",
       "    .dataframe tbody tr th {\n",
       "        vertical-align: top;\n",
       "    }\n",
       "\n",
       "    .dataframe thead th {\n",
       "        text-align: right;\n",
       "    }\n",
       "</style>\n",
       "<table border=\"1\" class=\"dataframe\">\n",
       "  <thead>\n",
       "    <tr style=\"text-align: right;\">\n",
       "      <th></th>\n",
       "      <th>Status_Developing</th>\n",
       "    </tr>\n",
       "  </thead>\n",
       "  <tbody>\n",
       "    <tr>\n",
       "      <th>0</th>\n",
       "      <td>1</td>\n",
       "    </tr>\n",
       "    <tr>\n",
       "      <th>1</th>\n",
       "      <td>1</td>\n",
       "    </tr>\n",
       "    <tr>\n",
       "      <th>2</th>\n",
       "      <td>1</td>\n",
       "    </tr>\n",
       "    <tr>\n",
       "      <th>3</th>\n",
       "      <td>1</td>\n",
       "    </tr>\n",
       "    <tr>\n",
       "      <th>4</th>\n",
       "      <td>1</td>\n",
       "    </tr>\n",
       "    <tr>\n",
       "      <th>5</th>\n",
       "      <td>1</td>\n",
       "    </tr>\n",
       "    <tr>\n",
       "      <th>6</th>\n",
       "      <td>0</td>\n",
       "    </tr>\n",
       "    <tr>\n",
       "      <th>7</th>\n",
       "      <td>0</td>\n",
       "    </tr>\n",
       "    <tr>\n",
       "      <th>8</th>\n",
       "      <td>1</td>\n",
       "    </tr>\n",
       "    <tr>\n",
       "      <th>9</th>\n",
       "      <td>1</td>\n",
       "    </tr>\n",
       "  </tbody>\n",
       "</table>\n",
       "</div>"
      ],
      "text/plain": [
       "   Status_Developing\n",
       "0                  1\n",
       "1                  1\n",
       "2                  1\n",
       "3                  1\n",
       "4                  1\n",
       "5                  1\n",
       "6                  0\n",
       "7                  0\n",
       "8                  1\n",
       "9                  1"
      ]
     },
     "execution_count": 17,
     "metadata": {},
     "output_type": "execute_result"
    }
   ],
   "source": [
    "dummy_var.head(10)"
   ]
  },
  {
   "cell_type": "code",
   "execution_count": 18,
   "id": "35cac609",
   "metadata": {},
   "outputs": [],
   "source": [
    "Data = pd.concat([df_num, dummy_var], axis = 1)"
   ]
  },
  {
   "cell_type": "code",
   "execution_count": 19,
   "id": "6fa6984f",
   "metadata": {},
   "outputs": [
    {
     "data": {
      "text/html": [
       "<div>\n",
       "<style scoped>\n",
       "    .dataframe tbody tr th:only-of-type {\n",
       "        vertical-align: middle;\n",
       "    }\n",
       "\n",
       "    .dataframe tbody tr th {\n",
       "        vertical-align: top;\n",
       "    }\n",
       "\n",
       "    .dataframe thead th {\n",
       "        text-align: right;\n",
       "    }\n",
       "</style>\n",
       "<table border=\"1\" class=\"dataframe\">\n",
       "  <thead>\n",
       "    <tr style=\"text-align: right;\">\n",
       "      <th></th>\n",
       "      <th>Adult_Mortality</th>\n",
       "      <th>Infant_Deaths</th>\n",
       "      <th>Hepatitis</th>\n",
       "      <th>Measles</th>\n",
       "      <th>BMI</th>\n",
       "      <th>Underfive_Deaths</th>\n",
       "      <th>Polio</th>\n",
       "      <th>Diphtheria</th>\n",
       "      <th>HIV</th>\n",
       "      <th>GDP</th>\n",
       "      <th>Population</th>\n",
       "      <th>Malnourished10_19</th>\n",
       "      <th>Malnourished5_9</th>\n",
       "      <th>Income_Index</th>\n",
       "      <th>Schooling</th>\n",
       "      <th>Expected</th>\n",
       "      <th>Status_Developing</th>\n",
       "    </tr>\n",
       "  </thead>\n",
       "  <tbody>\n",
       "    <tr>\n",
       "      <th>0</th>\n",
       "      <td>1.011254</td>\n",
       "      <td>0.384465</td>\n",
       "      <td>-0.951903</td>\n",
       "      <td>-0.147121</td>\n",
       "      <td>-1.072655</td>\n",
       "      <td>-0.228769</td>\n",
       "      <td>-3.739110</td>\n",
       "      <td>-1.203393</td>\n",
       "      <td>-0.409423</td>\n",
       "      <td>-0.579504</td>\n",
       "      <td>0.345979</td>\n",
       "      <td>3.198683</td>\n",
       "      <td>3.080864</td>\n",
       "      <td>-0.129630</td>\n",
       "      <td>-0.090243</td>\n",
       "      <td>-0.737631</td>\n",
       "      <td>1</td>\n",
       "    </tr>\n",
       "    <tr>\n",
       "      <th>1</th>\n",
       "      <td>-1.503955</td>\n",
       "      <td>-0.273542</td>\n",
       "      <td>0.422545</td>\n",
       "      <td>-0.247722</td>\n",
       "      <td>0.732965</td>\n",
       "      <td>-0.228769</td>\n",
       "      <td>0.526893</td>\n",
       "      <td>0.529290</td>\n",
       "      <td>-0.409423</td>\n",
       "      <td>-0.211327</td>\n",
       "      <td>-0.472973</td>\n",
       "      <td>-0.732305</td>\n",
       "      <td>-0.732496</td>\n",
       "      <td>-0.127197</td>\n",
       "      <td>-0.037542</td>\n",
       "      <td>0.744516</td>\n",
       "      <td>1</td>\n",
       "    </tr>\n",
       "    <tr>\n",
       "      <th>2</th>\n",
       "      <td>-1.395456</td>\n",
       "      <td>-0.050669</td>\n",
       "      <td>0.297596</td>\n",
       "      <td>-0.242230</td>\n",
       "      <td>0.841965</td>\n",
       "      <td>-0.228769</td>\n",
       "      <td>0.387784</td>\n",
       "      <td>0.371773</td>\n",
       "      <td>-0.409423</td>\n",
       "      <td>-0.252190</td>\n",
       "      <td>0.496193</td>\n",
       "      <td>0.446991</td>\n",
       "      <td>0.340012</td>\n",
       "      <td>-0.127352</td>\n",
       "      <td>-0.019975</td>\n",
       "      <td>0.519230</td>\n",
       "      <td>1</td>\n",
       "    </tr>\n",
       "    <tr>\n",
       "      <th>3</th>\n",
       "      <td>1.721431</td>\n",
       "      <td>0.426917</td>\n",
       "      <td>-0.993553</td>\n",
       "      <td>-0.237436</td>\n",
       "      <td>-0.873611</td>\n",
       "      <td>-0.228769</td>\n",
       "      <td>-3.692740</td>\n",
       "      <td>-1.255898</td>\n",
       "      <td>0.615052</td>\n",
       "      <td>-0.292496</td>\n",
       "      <td>-0.411834</td>\n",
       "      <td>1.012071</td>\n",
       "      <td>0.912016</td>\n",
       "      <td>-0.129181</td>\n",
       "      <td>-0.283478</td>\n",
       "      <td>-2.231636</td>\n",
       "      <td>1</td>\n",
       "    </tr>\n",
       "    <tr>\n",
       "      <th>4</th>\n",
       "      <td>-0.438690</td>\n",
       "      <td>-0.188638</td>\n",
       "      <td>0.255946</td>\n",
       "      <td>-0.247722</td>\n",
       "      <td>0.998358</td>\n",
       "      <td>-0.228769</td>\n",
       "      <td>0.295045</td>\n",
       "      <td>0.319267</td>\n",
       "      <td>-0.409423</td>\n",
       "      <td>0.608814</td>\n",
       "      <td>0.583022</td>\n",
       "      <td>-0.781442</td>\n",
       "      <td>-0.827830</td>\n",
       "      <td>-0.126637</td>\n",
       "      <td>0.234744</td>\n",
       "      <td>0.602230</td>\n",
       "      <td>1</td>\n",
       "    </tr>\n",
       "  </tbody>\n",
       "</table>\n",
       "</div>"
      ],
      "text/plain": [
       "   Adult_Mortality  Infant_Deaths  Hepatitis   Measles       BMI   \\\n",
       "0         1.011254       0.384465   -0.951903 -0.147121 -1.072655   \n",
       "1        -1.503955      -0.273542    0.422545 -0.247722  0.732965   \n",
       "2        -1.395456      -0.050669    0.297596 -0.242230  0.841965   \n",
       "3         1.721431       0.426917   -0.993553 -0.237436 -0.873611   \n",
       "4        -0.438690      -0.188638    0.255946 -0.247722  0.998358   \n",
       "\n",
       "   Underfive_Deaths      Polio  Diphtheria        HIV       GDP  Population  \\\n",
       "0          -0.228769 -3.739110    -1.203393 -0.409423 -0.579504    0.345979   \n",
       "1          -0.228769  0.526893     0.529290 -0.409423 -0.211327   -0.472973   \n",
       "2          -0.228769  0.387784     0.371773 -0.409423 -0.252190    0.496193   \n",
       "3          -0.228769 -3.692740    -1.255898  0.615052 -0.292496   -0.411834   \n",
       "4          -0.228769  0.295045     0.319267 -0.409423  0.608814    0.583022   \n",
       "\n",
       "   Malnourished10_19   Malnourished5_9  Income_Index  Schooling  Expected  \\\n",
       "0            3.198683         3.080864     -0.129630  -0.090243 -0.737631   \n",
       "1           -0.732305        -0.732496     -0.127197  -0.037542  0.744516   \n",
       "2            0.446991         0.340012     -0.127352  -0.019975  0.519230   \n",
       "3            1.012071         0.912016     -0.129181  -0.283478 -2.231636   \n",
       "4           -0.781442        -0.827830     -0.126637   0.234744  0.602230   \n",
       "\n",
       "   Status_Developing  \n",
       "0                  1  \n",
       "1                  1  \n",
       "2                  1  \n",
       "3                  1  \n",
       "4                  1  "
      ]
     },
     "execution_count": 19,
     "metadata": {},
     "output_type": "execute_result"
    }
   ],
   "source": [
    "Data.head(5)"
   ]
  },
  {
   "cell_type": "code",
   "execution_count": 20,
   "id": "c0294007",
   "metadata": {},
   "outputs": [
    {
     "data": {
      "text/plain": [
       "(124, 17)"
      ]
     },
     "execution_count": 20,
     "metadata": {},
     "output_type": "execute_result"
    }
   ],
   "source": [
    "Data.shape"
   ]
  },
  {
   "cell_type": "code",
   "execution_count": 21,
   "id": "c6417973",
   "metadata": {},
   "outputs": [],
   "source": [
    "# Step 3: Split the data into features (X) and target variable (y)\n",
    "X = Data.drop(columns=['Expected'])  # Features\n",
    "Y = Data['Expected']  # Target variable"
   ]
  },
  {
   "cell_type": "code",
   "execution_count": 22,
   "id": "4cd9600c",
   "metadata": {},
   "outputs": [
    {
     "data": {
      "text/plain": [
       "0     -0.737631\n",
       "1      0.744516\n",
       "2      0.519230\n",
       "3     -2.231636\n",
       "4      0.602230\n",
       "5      0.424372\n",
       "6      1.372946\n",
       "7      1.218803\n",
       "8      0.175371\n",
       "9      0.673373\n",
       "10     0.068657\n",
       "11     0.507372\n",
       "12     0.127943\n",
       "13     1.171374\n",
       "14    -0.026201\n",
       "15    -1.330490\n",
       "16    -0.168487\n",
       "17     0.732659\n",
       "18    -0.654631\n",
       "19     0.448087\n",
       "20     0.768230\n",
       "21     0.388801\n",
       "22    -0.298916\n",
       "23     1.301803\n",
       "24    -2.219778\n",
       "25    -2.148635\n",
       "26     1.633804\n",
       "27     0.578516\n",
       "28     0.424372\n",
       "29    -0.915489\n",
       "30     0.993517\n",
       "31     0.803802\n",
       "32     0.934231\n",
       "33     1.633804\n",
       "34     1.752376\n",
       "35     0.590373\n",
       "36     0.922374\n",
       "37     0.270229\n",
       "38     0.756373\n",
       "39    -0.761346\n",
       "40    -0.156629\n",
       "41     1.171374\n",
       "42     1.325518\n",
       "43     0.376944\n",
       "44     1.159517\n",
       "45    -1.045918\n",
       "46     1.159517\n",
       "47     0.080514\n",
       "48    -1.449062\n",
       "49    -0.915489\n",
       "50     0.542944\n",
       "51     1.361089\n",
       "52    -0.346344\n",
       "53    -0.251487\n",
       "54     0.507372\n",
       "55    -0.275201\n",
       "56     1.206946\n",
       "57     1.337375\n",
       "58     1.361089\n",
       "59     0.590373\n",
       "60     1.479661\n",
       "61     0.092371\n",
       "62    -0.927346\n",
       "63     0.412515\n",
       "64     0.436229\n",
       "65    -1.164490\n",
       "66     1.278089\n",
       "67    -0.678345\n",
       "68     0.448087\n",
       "69     0.863088\n",
       "70    -1.543919\n",
       "71     0.400658\n",
       "72     0.649659\n",
       "73    -0.287058\n",
       "74     0.365086\n",
       "75    -0.547916\n",
       "76    -0.239630\n",
       "77     1.266232\n",
       "78     1.230660\n",
       "79     0.424372\n",
       "80    -0.263344\n",
       "81    -2.136778\n",
       "82     1.230660\n",
       "83     0.590373\n",
       "84     0.756373\n",
       "85     0.329515\n",
       "86     0.507372\n",
       "87    -0.322630\n",
       "88    -0.334487\n",
       "89     0.744516\n",
       "90     1.171374\n",
       "91     1.313661\n",
       "92     0.104228\n",
       "93     0.448087\n",
       "94     0.210943\n",
       "95    -0.144772\n",
       "96    -0.192201\n",
       "97    -0.215915\n",
       "98    -0.334487\n",
       "99    -0.358202\n",
       "100   -0.441202\n",
       "101   -0.464916\n",
       "102   -0.571631\n",
       "103   -0.737631\n",
       "104   -0.749488\n",
       "105   -0.785060\n",
       "106   -0.761346\n",
       "107   -0.725774\n",
       "108   -0.737631\n",
       "109   -0.607202\n",
       "110   -0.654631\n",
       "111   -0.713917\n",
       "112   -0.785060\n",
       "113   -0.879917\n",
       "114   -0.998489\n",
       "115   -1.211918\n",
       "116   -0.381916\n",
       "117   -1.377919\n",
       "118   -1.615062\n",
       "119   -1.887777\n",
       "120   -2.113064\n",
       "121   -2.279064\n",
       "122   -1.686205\n",
       "123   -2.682208\n",
       "Name: Expected, dtype: float64"
      ]
     },
     "execution_count": 22,
     "metadata": {},
     "output_type": "execute_result"
    }
   ],
   "source": [
    "Y"
   ]
  },
  {
   "cell_type": "code",
   "execution_count": 23,
   "id": "62e84a51",
   "metadata": {},
   "outputs": [
    {
     "name": "stdout",
     "output_type": "stream",
     "text": [
      "X_train (99, 16)\n",
      "y_train (99,)\n",
      "X_test (25, 16)\n",
      "y_test (25,)\n"
     ]
    }
   ],
   "source": [
    "# Step 4: Split the data into training and testing sets\n",
    "X_train, X_test, Y_train, Y_test = train_test_split(X, Y, test_size=0.2, random_state=42)\n",
    "\n",
    "# print dimension of train set\n",
    "print('X_train', X_train.shape)\n",
    "print('y_train', Y_train.shape)\n",
    "\n",
    "# print dimension of test set\n",
    "print('X_test', X_test.shape)\n",
    "print('y_test', Y_test.shape)"
   ]
  },
  {
   "cell_type": "code",
   "execution_count": 24,
   "id": "f733245c",
   "metadata": {},
   "outputs": [
    {
     "name": "stdout",
     "output_type": "stream",
     "text": [
      "                            OLS Regression Results                            \n",
      "==============================================================================\n",
      "Dep. Variable:               Expected   R-squared:                       0.808\n",
      "Model:                            OLS   Adj. R-squared:                  0.770\n",
      "Method:                 Least Squares   F-statistic:                     21.55\n",
      "Date:                Sun, 28 Apr 2024   Prob (F-statistic):           7.32e-23\n",
      "Time:                        03:12:04   Log-Likelihood:                -58.827\n",
      "No. Observations:                  99   AIC:                             151.7\n",
      "Df Residuals:                      82   BIC:                             195.8\n",
      "Df Model:                          16                                         \n",
      "Covariance Type:            nonrobust                                         \n",
      "======================================================================================\n",
      "                         coef    std err          t      P>|t|      [0.025      0.975]\n",
      "--------------------------------------------------------------------------------------\n",
      "const                  0.3954      0.161      2.454      0.016       0.075       0.716\n",
      "Adult_Mortality       -0.3100      0.065     -4.747      0.000      -0.440      -0.180\n",
      "Infant_Deaths          0.4779      0.408      1.172      0.245      -0.333       1.289\n",
      "Hepatitis              0.0534      0.071      0.756      0.452      -0.087       0.194\n",
      "Measles               -0.0472      0.107     -0.441      0.660      -0.260       0.166\n",
      " BMI                   0.0668      0.064      1.042      0.300      -0.061       0.194\n",
      "Underfive_Deaths      -0.5085      0.487     -1.044      0.300      -1.478       0.461\n",
      "Polio                  0.2062      0.101      2.046      0.044       0.006       0.407\n",
      "Diphtheria            -0.0133      0.092     -0.145      0.885      -0.195       0.169\n",
      " HIV                  -0.4123      0.073     -5.623      0.000      -0.558      -0.266\n",
      "GDP                    0.1298      0.062      2.083      0.040       0.006       0.254\n",
      "Population            -0.1249      0.060     -2.097      0.039      -0.243      -0.006\n",
      "Malnourished10_19     -0.2230      0.172     -1.294      0.199      -0.566       0.120\n",
      "Malnourished5_9        0.0369      0.168      0.220      0.827      -0.298       0.372\n",
      "Income_Index           0.0235      0.067      0.349      0.728      -0.111       0.158\n",
      "Schooling              0.0627      0.052      1.209      0.230      -0.040       0.166\n",
      "Status_Developing     -0.5520      0.172     -3.203      0.002      -0.895      -0.209\n",
      "==============================================================================\n",
      "Omnibus:                        0.910   Durbin-Watson:                   1.499\n",
      "Prob(Omnibus):                  0.635   Jarque-Bera (JB):                0.509\n",
      "Skew:                          -0.147   Prob(JB):                        0.775\n",
      "Kurtosis:                       3.191   Cond. No.                         26.2\n",
      "==============================================================================\n",
      "\n",
      "Notes:\n",
      "[1] Standard Errors assume that the covariance matrix of the errors is correctly specified.\n"
     ]
    }
   ],
   "source": [
    "import statsmodels.api as sm\n",
    "\n",
    "# Assuming X_train and y_train are your training features and target\n",
    "model = sm.OLS(Y_train, sm.add_constant(X_train))\n",
    "results = model.fit()\n",
    "print(results.summary())\n"
   ]
  },
  {
   "cell_type": "code",
   "execution_count": 25,
   "id": "57160cdb",
   "metadata": {},
   "outputs": [
    {
     "name": "stdout",
     "output_type": "stream",
     "text": [
      "Removed predictor 'Measles' with p-value 0.5517400555579468\n",
      "                                 OLS Regression Results                                \n",
      "=======================================================================================\n",
      "Dep. Variable:               Expected   R-squared (uncentered):                   0.793\n",
      "Model:                            OLS   Adj. R-squared (uncentered):              0.757\n",
      "Method:                 Least Squares   F-statistic:                              21.51\n",
      "Date:                Sun, 28 Apr 2024   Prob (F-statistic):                    1.30e-22\n",
      "Time:                        03:12:04   Log-Likelihood:                         -62.547\n",
      "No. Observations:                  99   AIC:                                      155.1\n",
      "Df Residuals:                      84   BIC:                                      194.0\n",
      "Df Model:                          15                                                  \n",
      "Covariance Type:            nonrobust                                                  \n",
      "======================================================================================\n",
      "                         coef    std err          t      P>|t|      [0.025      0.975]\n",
      "--------------------------------------------------------------------------------------\n",
      "Adult_Mortality       -0.3262      0.067     -4.893      0.000      -0.459      -0.194\n",
      "Infant_Deaths          0.6863      0.395      1.739      0.086      -0.098       1.471\n",
      "Hepatitis              0.0257      0.071      0.359      0.720      -0.116       0.168\n",
      " BMI                   0.0498      0.065      0.762      0.448      -0.080       0.180\n",
      "Underfive_Deaths      -0.8005      0.485     -1.649      0.103      -1.766       0.165\n",
      "Polio                  0.2205      0.103      2.137      0.035       0.015       0.426\n",
      "Diphtheria             0.0017      0.093      0.019      0.985      -0.183       0.187\n",
      " HIV                  -0.4014      0.075     -5.346      0.000      -0.551      -0.252\n",
      "GDP                    0.1676      0.062      2.705      0.008       0.044       0.291\n",
      "Population            -0.1469      0.060     -2.448      0.016      -0.266      -0.028\n",
      "Malnourished10_19     -0.2212      0.155     -1.430      0.156      -0.529       0.086\n",
      "Malnourished5_9       -0.0279      0.155     -0.180      0.858      -0.337       0.281\n",
      "Income_Index          -0.0094      0.068     -0.139      0.889      -0.144       0.125\n",
      "Schooling              0.0818      0.053      1.557      0.123      -0.023       0.186\n",
      "Status_Developing     -0.1557      0.061     -2.540      0.013      -0.278      -0.034\n",
      "==============================================================================\n",
      "Omnibus:                        2.006   Durbin-Watson:                   1.585\n",
      "Prob(Omnibus):                  0.367   Jarque-Bera (JB):                1.422\n",
      "Skew:                          -0.241   Prob(JB):                        0.491\n",
      "Kurtosis:                       3.334   Cond. No.                         23.6\n",
      "==============================================================================\n",
      "\n",
      "Notes:\n",
      "[1] R² is computed without centering (uncentered) since the model does not contain a constant.\n",
      "[2] Standard Errors assume that the covariance matrix of the errors is correctly specified.\n"
     ]
    }
   ],
   "source": [
    "model = sm.OLS(Y_train, X_train).fit()\n",
    "infant_deaths_p_value = model.pvalues['Measles ']\n",
    "threshold = 0.05\n",
    "if infant_deaths_p_value > threshold:\n",
    "    # Remove the predictor \"Infant_Deaths\" from X_train\n",
    "    X_train = X_train.drop(columns=['Measles '])\n",
    "    print(\"Removed predictor 'Measles' with p-value\", infant_deaths_p_value)\n",
    "model = sm.OLS(Y_train, X_train).fit()\n",
    "print(model.summary())"
   ]
  },
  {
   "cell_type": "code",
   "execution_count": 26,
   "id": "8535dac0",
   "metadata": {},
   "outputs": [
    {
     "name": "stdout",
     "output_type": "stream",
     "text": [
      "Removed predictor 'Underfive_Deaths' with p-value 0.10278948669370104\n",
      "                                 OLS Regression Results                                \n",
      "=======================================================================================\n",
      "Dep. Variable:               Expected   R-squared (uncentered):                   0.787\n",
      "Model:                            OLS   Adj. R-squared (uncentered):              0.752\n",
      "Method:                 Least Squares   F-statistic:                              22.40\n",
      "Date:                Sun, 28 Apr 2024   Prob (F-statistic):                    9.71e-23\n",
      "Time:                        03:12:04   Log-Likelihood:                         -64.125\n",
      "No. Observations:                  99   AIC:                                      156.2\n",
      "Df Residuals:                      85   BIC:                                      192.6\n",
      "Df Model:                          14                                                  \n",
      "Covariance Type:            nonrobust                                                  \n",
      "======================================================================================\n",
      "                         coef    std err          t      P>|t|      [0.025      0.975]\n",
      "--------------------------------------------------------------------------------------\n",
      "Adult_Mortality       -0.3373      0.067     -5.034      0.000      -0.470      -0.204\n",
      "Infant_Deaths          0.0417      0.056      0.751      0.455      -0.069       0.152\n",
      "Hepatitis              0.0086      0.071      0.120      0.905      -0.134       0.151\n",
      " BMI                   0.0684      0.065      1.051      0.296      -0.061       0.198\n",
      "Polio                  0.1961      0.103      1.901      0.061      -0.009       0.401\n",
      "Diphtheria             0.0347      0.092      0.379      0.706      -0.148       0.217\n",
      " HIV                  -0.4274      0.074     -5.765      0.000      -0.575      -0.280\n",
      "GDP                    0.1709      0.063      2.732      0.008       0.047       0.295\n",
      "Population            -0.1440      0.061     -2.376      0.020      -0.264      -0.024\n",
      "Malnourished10_19     -0.1932      0.155     -1.244      0.217      -0.502       0.116\n",
      "Malnourished5_9        0.0004      0.156      0.002      0.998      -0.309       0.310\n",
      "Income_Index          -0.0098      0.068     -0.143      0.887      -0.146       0.126\n",
      "Schooling              0.0777      0.053      1.466      0.146      -0.028       0.183\n",
      "Status_Developing     -0.1142      0.056     -2.023      0.046      -0.227      -0.002\n",
      "==============================================================================\n",
      "Omnibus:                        1.967   Durbin-Watson:                   1.583\n",
      "Prob(Omnibus):                  0.374   Jarque-Bera (JB):                1.416\n",
      "Skew:                          -0.260   Prob(JB):                        0.493\n",
      "Kurtosis:                       3.271   Cond. No.                         7.73\n",
      "==============================================================================\n",
      "\n",
      "Notes:\n",
      "[1] R² is computed without centering (uncentered) since the model does not contain a constant.\n",
      "[2] Standard Errors assume that the covariance matrix of the errors is correctly specified.\n"
     ]
    }
   ],
   "source": [
    "model = sm.OLS(Y_train, X_train).fit()\n",
    "infant_deaths_p_value = model.pvalues['Underfive_Deaths ']\n",
    "threshold = 0.05\n",
    "if infant_deaths_p_value > threshold:\n",
    "    # Remove the predictor \"Infant_Deaths\" from X_train\n",
    "    X_train = X_train.drop(columns=['Underfive_Deaths '])\n",
    "    print(\"Removed predictor 'Underfive_Deaths' with p-value\", infant_deaths_p_value)\n",
    "model = sm.OLS(Y_train, X_train).fit()\n",
    "print(model.summary())"
   ]
  },
  {
   "cell_type": "code",
   "execution_count": 27,
   "id": "02beabab",
   "metadata": {},
   "outputs": [
    {
     "name": "stdout",
     "output_type": "stream",
     "text": [
      "Removed predictor 'Malnourished10_19' with p-value 0.21692426827590813\n",
      "                                 OLS Regression Results                                \n",
      "=======================================================================================\n",
      "Dep. Variable:               Expected   R-squared (uncentered):                   0.783\n",
      "Model:                            OLS   Adj. R-squared (uncentered):              0.750\n",
      "Method:                 Least Squares   F-statistic:                              23.85\n",
      "Date:                Sun, 28 Apr 2024   Prob (F-statistic):                    4.05e-23\n",
      "Time:                        03:12:04   Log-Likelihood:                         -65.018\n",
      "No. Observations:                  99   AIC:                                      156.0\n",
      "Df Residuals:                      86   BIC:                                      189.8\n",
      "Df Model:                          13                                                  \n",
      "Covariance Type:            nonrobust                                                  \n",
      "=====================================================================================\n",
      "                        coef    std err          t      P>|t|      [0.025      0.975]\n",
      "-------------------------------------------------------------------------------------\n",
      "Adult_Mortality      -0.3255      0.067     -4.892      0.000      -0.458      -0.193\n",
      "Infant_Deaths         0.0314      0.055      0.570      0.570      -0.078       0.141\n",
      "Hepatitis            -0.0009      0.071     -0.013      0.990      -0.143       0.141\n",
      " BMI                  0.0626      0.065      0.961      0.339      -0.067       0.192\n",
      "Polio                 0.2205      0.102      2.170      0.033       0.018       0.422\n",
      "Diphtheria            0.0075      0.089      0.084      0.933      -0.170       0.185\n",
      " HIV                 -0.4433      0.073     -6.050      0.000      -0.589      -0.298\n",
      "GDP                   0.1728      0.063      2.756      0.007       0.048       0.297\n",
      "Population           -0.1428      0.061     -2.349      0.021      -0.264      -0.022\n",
      "Malnourished5_9      -0.1717      0.072     -2.388      0.019      -0.315      -0.029\n",
      "Income_Index         -0.0076      0.069     -0.111      0.912      -0.144       0.129\n",
      "Schooling             0.0790      0.053      1.487      0.141      -0.027       0.185\n",
      "Status_Developing    -0.1174      0.057     -2.074      0.041      -0.230      -0.005\n",
      "==============================================================================\n",
      "Omnibus:                        1.757   Durbin-Watson:                   1.643\n",
      "Prob(Omnibus):                  0.415   Jarque-Bera (JB):                1.328\n",
      "Skew:                          -0.274   Prob(JB):                        0.515\n",
      "Kurtosis:                       3.146   Cond. No.                         4.24\n",
      "==============================================================================\n",
      "\n",
      "Notes:\n",
      "[1] R² is computed without centering (uncentered) since the model does not contain a constant.\n",
      "[2] Standard Errors assume that the covariance matrix of the errors is correctly specified.\n"
     ]
    }
   ],
   "source": [
    "model = sm.OLS(Y_train, X_train).fit()\n",
    "infant_deaths_p_value = model.pvalues['Malnourished10_19 ']\n",
    "threshold = 0.05\n",
    "if infant_deaths_p_value > threshold:\n",
    "    # Remove the predictor \"Infant_Deaths\" from X_train\n",
    "    X_train = X_train.drop(columns=['Malnourished10_19 '])\n",
    "    print(\"Removed predictor 'Malnourished10_19' with p-value\", infant_deaths_p_value)\n",
    "model = sm.OLS(Y_train, X_train).fit()\n",
    "print(model.summary())"
   ]
  },
  {
   "cell_type": "code",
   "execution_count": 28,
   "id": "089751f9",
   "metadata": {},
   "outputs": [
    {
     "name": "stdout",
     "output_type": "stream",
     "text": [
      "Removed predictor 'Income_Index' with p-value 0.9120024403406839\n",
      "                                 OLS Regression Results                                \n",
      "=======================================================================================\n",
      "Dep. Variable:               Expected   R-squared (uncentered):                   0.783\n",
      "Model:                            OLS   Adj. R-squared (uncentered):              0.753\n",
      "Method:                 Least Squares   F-statistic:                              26.13\n",
      "Date:                Sun, 28 Apr 2024   Prob (F-statistic):                    7.76e-24\n",
      "Time:                        03:12:04   Log-Likelihood:                         -65.025\n",
      "No. Observations:                  99   AIC:                                      154.1\n",
      "Df Residuals:                      87   BIC:                                      185.2\n",
      "Df Model:                          12                                                  \n",
      "Covariance Type:            nonrobust                                                  \n",
      "=====================================================================================\n",
      "                        coef    std err          t      P>|t|      [0.025      0.975]\n",
      "-------------------------------------------------------------------------------------\n",
      "Adult_Mortality      -0.3255      0.066     -4.920      0.000      -0.457      -0.194\n",
      "Infant_Deaths         0.0312      0.055      0.570      0.570      -0.078       0.140\n",
      "Hepatitis            -0.0013      0.071     -0.018      0.985      -0.142       0.139\n",
      " BMI                  0.0624      0.065      0.964      0.338      -0.066       0.191\n",
      "Polio                 0.2206      0.101      2.184      0.032       0.020       0.421\n",
      "Diphtheria            0.0078      0.089      0.088      0.930      -0.169       0.184\n",
      " HIV                 -0.4436      0.073     -6.094      0.000      -0.588      -0.299\n",
      "GDP                   0.1704      0.059      2.908      0.005       0.054       0.287\n",
      "Population           -0.1424      0.060     -2.360      0.021      -0.262      -0.022\n",
      "Malnourished5_9      -0.1714      0.071     -2.399      0.019      -0.313      -0.029\n",
      "Schooling             0.0792      0.053      1.498      0.138      -0.026       0.184\n",
      "Status_Developing    -0.1175      0.056     -2.090      0.040      -0.229      -0.006\n",
      "==============================================================================\n",
      "Omnibus:                        1.770   Durbin-Watson:                   1.642\n",
      "Prob(Omnibus):                  0.413   Jarque-Bera (JB):                1.333\n",
      "Skew:                          -0.274   Prob(JB):                        0.513\n",
      "Kurtosis:                       3.153   Cond. No.                         4.23\n",
      "==============================================================================\n",
      "\n",
      "Notes:\n",
      "[1] R² is computed without centering (uncentered) since the model does not contain a constant.\n",
      "[2] Standard Errors assume that the covariance matrix of the errors is correctly specified.\n"
     ]
    }
   ],
   "source": [
    "model = sm.OLS(Y_train, X_train).fit()\n",
    "infant_deaths_p_value = model.pvalues['Income_Index']\n",
    "threshold = 0.05\n",
    "if infant_deaths_p_value > threshold:\n",
    "    # Remove the predictor \"Infant_Deaths\" from X_train\n",
    "    X_train = X_train.drop(columns=['Income_Index'])\n",
    "    print(\"Removed predictor 'Income_Index' with p-value\", infant_deaths_p_value)\n",
    "model = sm.OLS(Y_train, X_train).fit()\n",
    "print(model.summary())"
   ]
  },
  {
   "cell_type": "code",
   "execution_count": 29,
   "id": "0f2e7cfb",
   "metadata": {},
   "outputs": [
    {
     "name": "stdout",
     "output_type": "stream",
     "text": [
      "Removed predictor 'Hepatitis' with p-value 0.9853844509147818\n",
      "                                 OLS Regression Results                                \n",
      "=======================================================================================\n",
      "Dep. Variable:               Expected   R-squared (uncentered):                   0.783\n",
      "Model:                            OLS   Adj. R-squared (uncentered):              0.756\n",
      "Method:                 Least Squares   F-statistic:                              28.84\n",
      "Date:                Sun, 28 Apr 2024   Prob (F-statistic):                    1.40e-24\n",
      "Time:                        03:12:04   Log-Likelihood:                         -65.025\n",
      "No. Observations:                  99   AIC:                                      152.1\n",
      "Df Residuals:                      88   BIC:                                      180.6\n",
      "Df Model:                          11                                                  \n",
      "Covariance Type:            nonrobust                                                  \n",
      "=====================================================================================\n",
      "                        coef    std err          t      P>|t|      [0.025      0.975]\n",
      "-------------------------------------------------------------------------------------\n",
      "Adult_Mortality      -0.3257      0.064     -5.055      0.000      -0.454      -0.198\n",
      "Infant_Deaths         0.0313      0.054      0.579      0.564      -0.076       0.139\n",
      " BMI                  0.0625      0.064      0.976      0.332      -0.065       0.190\n",
      "Polio                 0.2206      0.100      2.198      0.031       0.021       0.420\n",
      "Diphtheria            0.0069      0.072      0.096      0.924      -0.136       0.150\n",
      " HIV                 -0.4437      0.072     -6.140      0.000      -0.587      -0.300\n",
      "GDP                   0.1704      0.058      2.930      0.004       0.055       0.286\n",
      "Population           -0.1424      0.060     -2.375      0.020      -0.262      -0.023\n",
      "Malnourished5_9      -0.1715      0.071     -2.431      0.017      -0.312      -0.031\n",
      "Schooling             0.0789      0.051      1.557      0.123      -0.022       0.180\n",
      "Status_Developing    -0.1176      0.056     -2.107      0.038      -0.229      -0.007\n",
      "==============================================================================\n",
      "Omnibus:                        1.752   Durbin-Watson:                   1.642\n",
      "Prob(Omnibus):                  0.416   Jarque-Bera (JB):                1.318\n",
      "Skew:                          -0.272   Prob(JB):                        0.517\n",
      "Kurtosis:                       3.151   Cond. No.                         3.98\n",
      "==============================================================================\n",
      "\n",
      "Notes:\n",
      "[1] R² is computed without centering (uncentered) since the model does not contain a constant.\n",
      "[2] Standard Errors assume that the covariance matrix of the errors is correctly specified.\n"
     ]
    }
   ],
   "source": [
    "model = sm.OLS(Y_train, X_train).fit()\n",
    "infant_deaths_p_value = model.pvalues['Hepatitis ']\n",
    "threshold = 0.05\n",
    "if infant_deaths_p_value > threshold:\n",
    "    # Remove the predictor \"Infant_Deaths\" from X_train\n",
    "    X_train = X_train.drop(columns=['Hepatitis '])\n",
    "    print(\"Removed predictor 'Hepatitis' with p-value\", infant_deaths_p_value)\n",
    "model = sm.OLS(Y_train, X_train).fit()\n",
    "print(model.summary())"
   ]
  },
  {
   "cell_type": "code",
   "execution_count": 30,
   "id": "4a2c1e59",
   "metadata": {},
   "outputs": [
    {
     "name": "stdout",
     "output_type": "stream",
     "text": [
      "Removed predictor 'Diphtheria' with p-value 0.9238908671601179\n",
      "                                 OLS Regression Results                                \n",
      "=======================================================================================\n",
      "Dep. Variable:               Expected   R-squared (uncentered):                   0.783\n",
      "Model:                            OLS   Adj. R-squared (uncentered):              0.758\n",
      "Method:                 Least Squares   F-statistic:                              32.08\n",
      "Date:                Sun, 28 Apr 2024   Prob (F-statistic):                    2.41e-25\n",
      "Time:                        03:12:04   Log-Likelihood:                         -65.030\n",
      "No. Observations:                  99   AIC:                                      150.1\n",
      "Df Residuals:                      89   BIC:                                      176.0\n",
      "Df Model:                          10                                                  \n",
      "Covariance Type:            nonrobust                                                  \n",
      "=====================================================================================\n",
      "                        coef    std err          t      P>|t|      [0.025      0.975]\n",
      "-------------------------------------------------------------------------------------\n",
      "Adult_Mortality      -0.3252      0.064     -5.095      0.000      -0.452      -0.198\n",
      "Infant_Deaths         0.0312      0.054      0.581      0.563      -0.076       0.138\n",
      " BMI                  0.0623      0.064      0.979      0.330      -0.064       0.189\n",
      "Polio                 0.2278      0.066      3.437      0.001       0.096       0.360\n",
      " HIV                 -0.4435      0.072     -6.175      0.000      -0.586      -0.301\n",
      "GDP                   0.1709      0.058      2.966      0.004       0.056       0.285\n",
      "Population           -0.1424      0.060     -2.388      0.019      -0.261      -0.024\n",
      "Malnourished5_9      -0.1714      0.070     -2.444      0.017      -0.311      -0.032\n",
      "Schooling             0.0788      0.050      1.564      0.121      -0.021       0.179\n",
      "Status_Developing    -0.1186      0.055     -2.176      0.032      -0.227      -0.010\n",
      "==============================================================================\n",
      "Omnibus:                        1.770   Durbin-Watson:                   1.642\n",
      "Prob(Omnibus):                  0.413   Jarque-Bera (JB):                1.330\n",
      "Skew:                          -0.273   Prob(JB):                        0.514\n",
      "Kurtosis:                       3.156   Cond. No.                         2.77\n",
      "==============================================================================\n",
      "\n",
      "Notes:\n",
      "[1] R² is computed without centering (uncentered) since the model does not contain a constant.\n",
      "[2] Standard Errors assume that the covariance matrix of the errors is correctly specified.\n"
     ]
    }
   ],
   "source": [
    "model = sm.OLS(Y_train, X_train).fit()\n",
    "infant_deaths_p_value = model.pvalues['Diphtheria ']\n",
    "threshold = 0.05\n",
    "if infant_deaths_p_value > threshold:\n",
    "    # Remove the predictor \"Infant_Deaths\" from X_train\n",
    "    X_train = X_train.drop(columns=['Diphtheria '])\n",
    "    print(\"Removed predictor 'Diphtheria' with p-value\", infant_deaths_p_value)\n",
    "model = sm.OLS(Y_train, X_train).fit()\n",
    "print(model.summary())"
   ]
  },
  {
   "cell_type": "code",
   "execution_count": 31,
   "id": "a5ca1e25",
   "metadata": {},
   "outputs": [
    {
     "name": "stdout",
     "output_type": "stream",
     "text": [
      "Removed predictor 'Infant_Deaths' with p-value 0.5626721865155733\n",
      "                                 OLS Regression Results                                \n",
      "=======================================================================================\n",
      "Dep. Variable:               Expected   R-squared (uncentered):                   0.782\n",
      "Model:                            OLS   Adj. R-squared (uncentered):              0.760\n",
      "Method:                 Least Squares   F-statistic:                              35.87\n",
      "Date:                Sun, 28 Apr 2024   Prob (F-statistic):                    4.59e-26\n",
      "Time:                        03:12:05   Log-Likelihood:                         -65.218\n",
      "No. Observations:                  99   AIC:                                      148.4\n",
      "Df Residuals:                      90   BIC:                                      171.8\n",
      "Df Model:                           9                                                  \n",
      "Covariance Type:            nonrobust                                                  \n",
      "=====================================================================================\n",
      "                        coef    std err          t      P>|t|      [0.025      0.975]\n",
      "-------------------------------------------------------------------------------------\n",
      "Adult_Mortality      -0.3230      0.063     -5.088      0.000      -0.449      -0.197\n",
      " BMI                  0.0648      0.063      1.023      0.309      -0.061       0.190\n",
      "Polio                 0.2231      0.066      3.404      0.001       0.093       0.353\n",
      " HIV                 -0.4460      0.071     -6.243      0.000      -0.588      -0.304\n",
      "GDP                   0.1716      0.057      2.992      0.004       0.058       0.286\n",
      "Population           -0.1415      0.059     -2.382      0.019      -0.259      -0.023\n",
      "Malnourished5_9      -0.1514      0.061     -2.488      0.015      -0.272      -0.031\n",
      "Schooling             0.0776      0.050      1.547      0.125      -0.022       0.177\n",
      "Status_Developing    -0.1194      0.054     -2.199      0.030      -0.227      -0.012\n",
      "==============================================================================\n",
      "Omnibus:                        1.644   Durbin-Watson:                   1.660\n",
      "Prob(Omnibus):                  0.440   Jarque-Bera (JB):                1.252\n",
      "Skew:                          -0.269   Prob(JB):                        0.535\n",
      "Kurtosis:                       3.120   Cond. No.                         2.68\n",
      "==============================================================================\n",
      "\n",
      "Notes:\n",
      "[1] R² is computed without centering (uncentered) since the model does not contain a constant.\n",
      "[2] Standard Errors assume that the covariance matrix of the errors is correctly specified.\n"
     ]
    }
   ],
   "source": [
    "model = sm.OLS(Y_train, X_train).fit()\n",
    "infant_deaths_p_value = model.pvalues['Infant_Deaths']\n",
    "threshold = 0.05\n",
    "if infant_deaths_p_value > threshold:\n",
    "    # Remove the predictor \"Infant_Deaths\" from X_train\n",
    "    X_train = X_train.drop(columns=['Infant_Deaths'])\n",
    "    print(\"Removed predictor 'Infant_Deaths' with p-value\", infant_deaths_p_value)\n",
    "model = sm.OLS(Y_train, X_train).fit()\n",
    "print(model.summary())"
   ]
  },
  {
   "cell_type": "code",
   "execution_count": 32,
   "id": "c219115a",
   "metadata": {},
   "outputs": [
    {
     "name": "stdout",
     "output_type": "stream",
     "text": [
      "Removed predictor 'BMI' with p-value 0.30882666906975975\n",
      "                                 OLS Regression Results                                \n",
      "=======================================================================================\n",
      "Dep. Variable:               Expected   R-squared (uncentered):                   0.779\n",
      "Model:                            OLS   Adj. R-squared (uncentered):              0.760\n",
      "Method:                 Least Squares   F-statistic:                              40.20\n",
      "Date:                Sun, 28 Apr 2024   Prob (F-statistic):                    1.16e-26\n",
      "Time:                        03:12:05   Log-Likelihood:                         -65.791\n",
      "No. Observations:                  99   AIC:                                      147.6\n",
      "Df Residuals:                      91   BIC:                                      168.3\n",
      "Df Model:                           8                                                  \n",
      "Covariance Type:            nonrobust                                                  \n",
      "=====================================================================================\n",
      "                        coef    std err          t      P>|t|      [0.025      0.975]\n",
      "-------------------------------------------------------------------------------------\n",
      "Adult_Mortality      -0.3295      0.063     -5.216      0.000      -0.455      -0.204\n",
      "Polio                 0.2239      0.066      3.415      0.001       0.094       0.354\n",
      " HIV                 -0.4653      0.069     -6.753      0.000      -0.602      -0.328\n",
      "GDP                   0.1836      0.056      3.269      0.002       0.072       0.295\n",
      "Population           -0.1279      0.058     -2.209      0.030      -0.243      -0.013\n",
      "Malnourished5_9      -0.1722      0.057     -3.001      0.003      -0.286      -0.058\n",
      "Schooling             0.0828      0.050      1.659      0.101      -0.016       0.182\n",
      "Status_Developing    -0.1200      0.054     -2.210      0.030      -0.228      -0.012\n",
      "==============================================================================\n",
      "Omnibus:                        1.905   Durbin-Watson:                   1.662\n",
      "Prob(Omnibus):                  0.386   Jarque-Bera (JB):                1.557\n",
      "Skew:                          -0.305   Prob(JB):                        0.459\n",
      "Kurtosis:                       3.071   Cond. No.                         2.44\n",
      "==============================================================================\n",
      "\n",
      "Notes:\n",
      "[1] R² is computed without centering (uncentered) since the model does not contain a constant.\n",
      "[2] Standard Errors assume that the covariance matrix of the errors is correctly specified.\n"
     ]
    }
   ],
   "source": [
    "model = sm.OLS(Y_train, X_train).fit()\n",
    "infant_deaths_p_value = model.pvalues[' BMI ']\n",
    "threshold = 0.05\n",
    "if infant_deaths_p_value > threshold:\n",
    "    # Remove the predictor \"Infant_Deaths\" from X_train\n",
    "    X_train = X_train.drop(columns=[' BMI '])\n",
    "    print(\"Removed predictor 'BMI' with p-value\", infant_deaths_p_value)\n",
    "model = sm.OLS(Y_train, X_train).fit()\n",
    "print(model.summary())"
   ]
  },
  {
   "cell_type": "code",
   "execution_count": 33,
   "id": "f723e5eb",
   "metadata": {},
   "outputs": [
    {
     "name": "stdout",
     "output_type": "stream",
     "text": [
      "Removed predictor 'Schooling' with p-value 0.10050891193566446\n",
      "                                 OLS Regression Results                                \n",
      "=======================================================================================\n",
      "Dep. Variable:               Expected   R-squared (uncentered):                   0.773\n",
      "Model:                            OLS   Adj. R-squared (uncentered):              0.755\n",
      "Method:                 Least Squares   F-statistic:                              44.70\n",
      "Date:                Sun, 28 Apr 2024   Prob (F-statistic):                    6.30e-27\n",
      "Time:                        03:12:05   Log-Likelihood:                         -67.266\n",
      "No. Observations:                  99   AIC:                                      148.5\n",
      "Df Residuals:                      92   BIC:                                      166.7\n",
      "Df Model:                           7                                                  \n",
      "Covariance Type:            nonrobust                                                  \n",
      "=====================================================================================\n",
      "                        coef    std err          t      P>|t|      [0.025      0.975]\n",
      "-------------------------------------------------------------------------------------\n",
      "Adult_Mortality      -0.3232      0.064     -5.077      0.000      -0.450      -0.197\n",
      "Polio                 0.2416      0.065      3.699      0.000       0.112       0.371\n",
      " HIV                 -0.4222      0.064     -6.554      0.000      -0.550      -0.294\n",
      "GDP                   0.1921      0.056      3.402      0.001       0.080       0.304\n",
      "Population           -0.1327      0.058     -2.273      0.025      -0.249      -0.017\n",
      "Malnourished5_9      -0.1807      0.058     -3.133      0.002      -0.295      -0.066\n",
      "Status_Developing    -0.1216      0.055     -2.219      0.029      -0.230      -0.013\n",
      "==============================================================================\n",
      "Omnibus:                        2.238   Durbin-Watson:                   1.657\n",
      "Prob(Omnibus):                  0.327   Jarque-Bera (JB):                1.968\n",
      "Skew:                          -0.345   Prob(JB):                        0.374\n",
      "Kurtosis:                       3.002   Cond. No.                         2.34\n",
      "==============================================================================\n",
      "\n",
      "Notes:\n",
      "[1] R² is computed without centering (uncentered) since the model does not contain a constant.\n",
      "[2] Standard Errors assume that the covariance matrix of the errors is correctly specified.\n"
     ]
    }
   ],
   "source": [
    "model = sm.OLS(Y_train, X_train).fit()\n",
    "infant_deaths_p_value = model.pvalues['Schooling']\n",
    "threshold = 0.05\n",
    "if infant_deaths_p_value > threshold:\n",
    "    # Remove the predictor \"Infant_Deaths\" from X_train\n",
    "    X_train = X_train.drop(columns=['Schooling'])\n",
    "    print(\"Removed predictor 'Schooling' with p-value\", infant_deaths_p_value)\n",
    "model = sm.OLS(Y_train, X_train).fit()\n",
    "print(model.summary())"
   ]
  },
  {
   "cell_type": "code",
   "execution_count": 34,
   "id": "3000a253",
   "metadata": {},
   "outputs": [
    {
     "name": "stdout",
     "output_type": "stream",
     "text": [
      "Train RMSE: 0.4773601115411413\n"
     ]
    }
   ],
   "source": [
    "# Make predictions on the training set\n",
    "y_pred_train = model.predict(X_train)\n",
    "mse_train = np.mean((Y_train - y_pred_train)**2)\n",
    "rmse_train_ols = np.sqrt(mse_train)\n",
    "print(\"Train RMSE:\", rmse_train_ols)"
   ]
  },
  {
   "cell_type": "code",
   "execution_count": 35,
   "id": "03445bc1",
   "metadata": {},
   "outputs": [],
   "source": [
    "X_test_subset = X_test.drop(columns=['Infant_Deaths', 'Hepatitis ','Measles ',' BMI ','Underfive_Deaths ','Diphtheria ','Malnourished10_19 ','Income_Index','Schooling'])"
   ]
  },
  {
   "cell_type": "code",
   "execution_count": 36,
   "id": "f6f2949c",
   "metadata": {},
   "outputs": [
    {
     "name": "stdout",
     "output_type": "stream",
     "text": [
      "Test RMSE: 0.6606597433133036\n"
     ]
    }
   ],
   "source": [
    "y_pred_test = model.predict(X_test_subset)\n",
    "mse_test = np.mean((Y_test - y_pred_test)**2)\n",
    "rmse_test_ols = np.sqrt(mse_test)\n",
    "print(\"Test RMSE:\", rmse_test_ols)"
   ]
  },
  {
   "cell_type": "code",
   "execution_count": 37,
   "id": "60e9b14c",
   "metadata": {},
   "outputs": [
    {
     "name": "stdout",
     "output_type": "stream",
     "text": [
      "Difference between RMSE on train and test set: 0.1832996317721623\n"
     ]
    }
   ],
   "source": [
    "# Calculate the difference between train and test RMSE\n",
    "rmse_diff_ols = rmse_test_ols - rmse_train_ols\n",
    "print(\"Difference between RMSE on train and test set:\", rmse_diff_ols)"
   ]
  },
  {
   "cell_type": "markdown",
   "id": "4998a872",
   "metadata": {},
   "source": [
    "### Multiple Linear Regression (OLS) method summary "
   ]
  },
  {
   "cell_type": "code",
   "execution_count": 38,
   "id": "42066e86",
   "metadata": {},
   "outputs": [
    {
     "name": "stdout",
     "output_type": "stream",
     "text": [
      "Train RMSE: 0.4773601115411413\n",
      "Test RMSE: 0.6606597433133036\n",
      "Difference between RMSE on train and test set: 0.1832996317721623\n"
     ]
    }
   ],
   "source": [
    "print(\"Train RMSE:\", rmse_train_ols)\n",
    "print(\"Test RMSE:\", rmse_test_ols)\n",
    "print(\"Difference between RMSE on train and test set:\", rmse_diff_ols)"
   ]
  },
  {
   "cell_type": "markdown",
   "id": "d669a713",
   "metadata": {},
   "source": [
    "#### Ridge regression"
   ]
  },
  {
   "cell_type": "code",
   "execution_count": 39,
   "id": "562b9917",
   "metadata": {},
   "outputs": [],
   "source": [
    "from sklearn.linear_model import Ridge, Lasso\n",
    "from sklearn.metrics import mean_squared_error"
   ]
  },
  {
   "cell_type": "code",
   "execution_count": 40,
   "id": "1978ec47",
   "metadata": {},
   "outputs": [
    {
     "name": "stdout",
     "output_type": "stream",
     "text": [
      "X_train (99, 16)\n",
      "y_train (99,)\n",
      "X_test (25, 16)\n",
      "y_test (25,)\n"
     ]
    }
   ],
   "source": [
    "X_train, X_test, Y_train, Y_test = train_test_split(X, Y, random_state = 10, test_size = 0.2)\n",
    "\n",
    "# check the dimensions of the train & test subset using 'shape'\n",
    "# print dimension of train set\n",
    "print('X_train', X_train.shape)\n",
    "print('y_train', Y_train.shape)\n",
    "\n",
    "# print dimension of test set\n",
    "print('X_test', X_test.shape)\n",
    "print('y_test', Y_test.shape)"
   ]
  },
  {
   "cell_type": "code",
   "execution_count": 41,
   "id": "b1b1a996",
   "metadata": {},
   "outputs": [
    {
     "data": {
      "text/html": [
       "<style>#sk-container-id-1 {color: black;}#sk-container-id-1 pre{padding: 0;}#sk-container-id-1 div.sk-toggleable {background-color: white;}#sk-container-id-1 label.sk-toggleable__label {cursor: pointer;display: block;width: 100%;margin-bottom: 0;padding: 0.3em;box-sizing: border-box;text-align: center;}#sk-container-id-1 label.sk-toggleable__label-arrow:before {content: \"▸\";float: left;margin-right: 0.25em;color: #696969;}#sk-container-id-1 label.sk-toggleable__label-arrow:hover:before {color: black;}#sk-container-id-1 div.sk-estimator:hover label.sk-toggleable__label-arrow:before {color: black;}#sk-container-id-1 div.sk-toggleable__content {max-height: 0;max-width: 0;overflow: hidden;text-align: left;background-color: #f0f8ff;}#sk-container-id-1 div.sk-toggleable__content pre {margin: 0.2em;color: black;border-radius: 0.25em;background-color: #f0f8ff;}#sk-container-id-1 input.sk-toggleable__control:checked~div.sk-toggleable__content {max-height: 200px;max-width: 100%;overflow: auto;}#sk-container-id-1 input.sk-toggleable__control:checked~label.sk-toggleable__label-arrow:before {content: \"▾\";}#sk-container-id-1 div.sk-estimator input.sk-toggleable__control:checked~label.sk-toggleable__label {background-color: #d4ebff;}#sk-container-id-1 div.sk-label input.sk-toggleable__control:checked~label.sk-toggleable__label {background-color: #d4ebff;}#sk-container-id-1 input.sk-hidden--visually {border: 0;clip: rect(1px 1px 1px 1px);clip: rect(1px, 1px, 1px, 1px);height: 1px;margin: -1px;overflow: hidden;padding: 0;position: absolute;width: 1px;}#sk-container-id-1 div.sk-estimator {font-family: monospace;background-color: #f0f8ff;border: 1px dotted black;border-radius: 0.25em;box-sizing: border-box;margin-bottom: 0.5em;}#sk-container-id-1 div.sk-estimator:hover {background-color: #d4ebff;}#sk-container-id-1 div.sk-parallel-item::after {content: \"\";width: 100%;border-bottom: 1px solid gray;flex-grow: 1;}#sk-container-id-1 div.sk-label:hover label.sk-toggleable__label {background-color: #d4ebff;}#sk-container-id-1 div.sk-serial::before {content: \"\";position: absolute;border-left: 1px solid gray;box-sizing: border-box;top: 0;bottom: 0;left: 50%;z-index: 0;}#sk-container-id-1 div.sk-serial {display: flex;flex-direction: column;align-items: center;background-color: white;padding-right: 0.2em;padding-left: 0.2em;position: relative;}#sk-container-id-1 div.sk-item {position: relative;z-index: 1;}#sk-container-id-1 div.sk-parallel {display: flex;align-items: stretch;justify-content: center;background-color: white;position: relative;}#sk-container-id-1 div.sk-item::before, #sk-container-id-1 div.sk-parallel-item::before {content: \"\";position: absolute;border-left: 1px solid gray;box-sizing: border-box;top: 0;bottom: 0;left: 50%;z-index: -1;}#sk-container-id-1 div.sk-parallel-item {display: flex;flex-direction: column;z-index: 1;position: relative;background-color: white;}#sk-container-id-1 div.sk-parallel-item:first-child::after {align-self: flex-end;width: 50%;}#sk-container-id-1 div.sk-parallel-item:last-child::after {align-self: flex-start;width: 50%;}#sk-container-id-1 div.sk-parallel-item:only-child::after {width: 0;}#sk-container-id-1 div.sk-dashed-wrapped {border: 1px dashed gray;margin: 0 0.4em 0.5em 0.4em;box-sizing: border-box;padding-bottom: 0.4em;background-color: white;}#sk-container-id-1 div.sk-label label {font-family: monospace;font-weight: bold;display: inline-block;line-height: 1.2em;}#sk-container-id-1 div.sk-label-container {text-align: center;}#sk-container-id-1 div.sk-container {/* jupyter's `normalize.less` sets `[hidden] { display: none; }` but bootstrap.min.css set `[hidden] { display: none !important; }` so we also need the `!important` here to be able to override the default hidden behavior on the sphinx rendered scikit-learn.org. See: https://github.com/scikit-learn/scikit-learn/issues/21755 */display: inline-block !important;position: relative;}#sk-container-id-1 div.sk-text-repr-fallback {display: none;}</style><div id=\"sk-container-id-1\" class=\"sk-top-container\"><div class=\"sk-text-repr-fallback\"><pre>Ridge(alpha=2)</pre><b>In a Jupyter environment, please rerun this cell to show the HTML representation or trust the notebook. <br />On GitHub, the HTML representation is unable to render, please try loading this page with nbviewer.org.</b></div><div class=\"sk-container\" hidden><div class=\"sk-item\"><div class=\"sk-estimator sk-toggleable\"><input class=\"sk-toggleable__control sk-hidden--visually\" id=\"sk-estimator-id-1\" type=\"checkbox\" checked><label for=\"sk-estimator-id-1\" class=\"sk-toggleable__label sk-toggleable__label-arrow\">Ridge</label><div class=\"sk-toggleable__content\"><pre>Ridge(alpha=2)</pre></div></div></div></div></div>"
      ],
      "text/plain": [
       "Ridge(alpha=2)"
      ]
     },
     "execution_count": 41,
     "metadata": {},
     "output_type": "execute_result"
    }
   ],
   "source": [
    "ridge_model = Ridge(alpha=2)  # You can adjust the regularization strength (alpha) as needed\n",
    "ridge_model.fit(X_train, Y_train)"
   ]
  },
  {
   "cell_type": "code",
   "execution_count": 42,
   "id": "999e51c5",
   "metadata": {},
   "outputs": [],
   "source": [
    "# Make predictions\n",
    "y_pred_train = ridge_model.predict(X_train)\n",
    "y_pred_test = ridge_model.predict(X_test)"
   ]
  },
  {
   "cell_type": "code",
   "execution_count": 43,
   "id": "4b5384a9",
   "metadata": {},
   "outputs": [],
   "source": [
    "# Calculate RMSE\n",
    "rmse_ridge_train = mean_squared_error(Y_train,y_pred_train, squared=False)\n",
    "rmse_ridge_test = mean_squared_error(Y_test, y_pred_test, squared=False)"
   ]
  },
  {
   "cell_type": "code",
   "execution_count": 44,
   "id": "f873e6d4",
   "metadata": {},
   "outputs": [],
   "source": [
    "# Calculate R2 for Ridge regression\n",
    "ridge_train_r2 = ridge_model.score(X_train, Y_train)\n",
    "ridge_test_r2 = ridge_model.score(X_test, Y_test)"
   ]
  },
  {
   "cell_type": "code",
   "execution_count": 45,
   "id": "e24eb4b8",
   "metadata": {},
   "outputs": [
    {
     "name": "stdout",
     "output_type": "stream",
     "text": [
      "Ridge Regression:\n",
      "Train RMSE: 0.458408723223989\n",
      "Test RMSE: 0.6840476728293456\n",
      "Difference between RMSE on train and test set (RIDGE REGRESSION): 0.22563894960535663\n"
     ]
    }
   ],
   "source": [
    "print(\"Ridge Regression:\")\n",
    "print(\"Train RMSE:\", rmse_ridge_train)\n",
    "print(\"Test RMSE:\", rmse_ridge_test)\n",
    "rmse_diff_ridge = rmse_ridge_test - rmse_ridge_train\n",
    "print(\"Difference between RMSE on train and test set (RIDGE REGRESSION):\", rmse_diff_ridge)"
   ]
  },
  {
   "cell_type": "markdown",
   "id": "101ddc9f",
   "metadata": {},
   "source": [
    "### Lasso regression"
   ]
  },
  {
   "cell_type": "code",
   "execution_count": 46,
   "id": "89ea4b44",
   "metadata": {},
   "outputs": [
    {
     "data": {
      "text/html": [
       "<style>#sk-container-id-2 {color: black;}#sk-container-id-2 pre{padding: 0;}#sk-container-id-2 div.sk-toggleable {background-color: white;}#sk-container-id-2 label.sk-toggleable__label {cursor: pointer;display: block;width: 100%;margin-bottom: 0;padding: 0.3em;box-sizing: border-box;text-align: center;}#sk-container-id-2 label.sk-toggleable__label-arrow:before {content: \"▸\";float: left;margin-right: 0.25em;color: #696969;}#sk-container-id-2 label.sk-toggleable__label-arrow:hover:before {color: black;}#sk-container-id-2 div.sk-estimator:hover label.sk-toggleable__label-arrow:before {color: black;}#sk-container-id-2 div.sk-toggleable__content {max-height: 0;max-width: 0;overflow: hidden;text-align: left;background-color: #f0f8ff;}#sk-container-id-2 div.sk-toggleable__content pre {margin: 0.2em;color: black;border-radius: 0.25em;background-color: #f0f8ff;}#sk-container-id-2 input.sk-toggleable__control:checked~div.sk-toggleable__content {max-height: 200px;max-width: 100%;overflow: auto;}#sk-container-id-2 input.sk-toggleable__control:checked~label.sk-toggleable__label-arrow:before {content: \"▾\";}#sk-container-id-2 div.sk-estimator input.sk-toggleable__control:checked~label.sk-toggleable__label {background-color: #d4ebff;}#sk-container-id-2 div.sk-label input.sk-toggleable__control:checked~label.sk-toggleable__label {background-color: #d4ebff;}#sk-container-id-2 input.sk-hidden--visually {border: 0;clip: rect(1px 1px 1px 1px);clip: rect(1px, 1px, 1px, 1px);height: 1px;margin: -1px;overflow: hidden;padding: 0;position: absolute;width: 1px;}#sk-container-id-2 div.sk-estimator {font-family: monospace;background-color: #f0f8ff;border: 1px dotted black;border-radius: 0.25em;box-sizing: border-box;margin-bottom: 0.5em;}#sk-container-id-2 div.sk-estimator:hover {background-color: #d4ebff;}#sk-container-id-2 div.sk-parallel-item::after {content: \"\";width: 100%;border-bottom: 1px solid gray;flex-grow: 1;}#sk-container-id-2 div.sk-label:hover label.sk-toggleable__label {background-color: #d4ebff;}#sk-container-id-2 div.sk-serial::before {content: \"\";position: absolute;border-left: 1px solid gray;box-sizing: border-box;top: 0;bottom: 0;left: 50%;z-index: 0;}#sk-container-id-2 div.sk-serial {display: flex;flex-direction: column;align-items: center;background-color: white;padding-right: 0.2em;padding-left: 0.2em;position: relative;}#sk-container-id-2 div.sk-item {position: relative;z-index: 1;}#sk-container-id-2 div.sk-parallel {display: flex;align-items: stretch;justify-content: center;background-color: white;position: relative;}#sk-container-id-2 div.sk-item::before, #sk-container-id-2 div.sk-parallel-item::before {content: \"\";position: absolute;border-left: 1px solid gray;box-sizing: border-box;top: 0;bottom: 0;left: 50%;z-index: -1;}#sk-container-id-2 div.sk-parallel-item {display: flex;flex-direction: column;z-index: 1;position: relative;background-color: white;}#sk-container-id-2 div.sk-parallel-item:first-child::after {align-self: flex-end;width: 50%;}#sk-container-id-2 div.sk-parallel-item:last-child::after {align-self: flex-start;width: 50%;}#sk-container-id-2 div.sk-parallel-item:only-child::after {width: 0;}#sk-container-id-2 div.sk-dashed-wrapped {border: 1px dashed gray;margin: 0 0.4em 0.5em 0.4em;box-sizing: border-box;padding-bottom: 0.4em;background-color: white;}#sk-container-id-2 div.sk-label label {font-family: monospace;font-weight: bold;display: inline-block;line-height: 1.2em;}#sk-container-id-2 div.sk-label-container {text-align: center;}#sk-container-id-2 div.sk-container {/* jupyter's `normalize.less` sets `[hidden] { display: none; }` but bootstrap.min.css set `[hidden] { display: none !important; }` so we also need the `!important` here to be able to override the default hidden behavior on the sphinx rendered scikit-learn.org. See: https://github.com/scikit-learn/scikit-learn/issues/21755 */display: inline-block !important;position: relative;}#sk-container-id-2 div.sk-text-repr-fallback {display: none;}</style><div id=\"sk-container-id-2\" class=\"sk-top-container\"><div class=\"sk-text-repr-fallback\"><pre>Lasso(alpha=1.01)</pre><b>In a Jupyter environment, please rerun this cell to show the HTML representation or trust the notebook. <br />On GitHub, the HTML representation is unable to render, please try loading this page with nbviewer.org.</b></div><div class=\"sk-container\" hidden><div class=\"sk-item\"><div class=\"sk-estimator sk-toggleable\"><input class=\"sk-toggleable__control sk-hidden--visually\" id=\"sk-estimator-id-2\" type=\"checkbox\" checked><label for=\"sk-estimator-id-2\" class=\"sk-toggleable__label sk-toggleable__label-arrow\">Lasso</label><div class=\"sk-toggleable__content\"><pre>Lasso(alpha=1.01)</pre></div></div></div></div></div>"
      ],
      "text/plain": [
       "Lasso(alpha=1.01)"
      ]
     },
     "execution_count": 46,
     "metadata": {},
     "output_type": "execute_result"
    }
   ],
   "source": [
    "lasso_model = Lasso(alpha=1.01)  # You can adjust the regularization strength (alpha) as needed\n",
    "lasso_model.fit(X_train, Y_train)"
   ]
  },
  {
   "cell_type": "code",
   "execution_count": 47,
   "id": "55a68fc8",
   "metadata": {},
   "outputs": [],
   "source": [
    "# Make predictions\n",
    "y_pred_lasso_train = lasso_model.predict(X_train)\n",
    "y_pred_lasso_test = lasso_model.predict(X_test)"
   ]
  },
  {
   "cell_type": "code",
   "execution_count": 48,
   "id": "510f9079",
   "metadata": {},
   "outputs": [],
   "source": [
    "# Calculate RMSE\n",
    "rmse_lasso_train = mean_squared_error(Y_train, y_pred_lasso_train, squared=False)\n",
    "rmse_lasso_test = mean_squared_error(Y_test, y_pred_lasso_test, squared=False)\n"
   ]
  },
  {
   "cell_type": "code",
   "execution_count": 49,
   "id": "0be4c851",
   "metadata": {},
   "outputs": [],
   "source": [
    "# Calculate R2 for Lasso regression\n",
    "lasso_train_r2 = lasso_model.score(X_train, Y_train)\n",
    "lasso_test_r2 = lasso_model.score(X_test, Y_test)"
   ]
  },
  {
   "cell_type": "code",
   "execution_count": 50,
   "id": "7e996193",
   "metadata": {},
   "outputs": [
    {
     "name": "stdout",
     "output_type": "stream",
     "text": [
      "\n",
      "Lasso Regression:\n",
      "Train RMSE: 1.03907168555752\n",
      "Test RMSE: 0.8281123597856753\n",
      "Difference between RMSE on train and test set (RIDGE REGRESSION): -0.21095932577184462\n"
     ]
    }
   ],
   "source": [
    "print(\"\\nLasso Regression:\")\n",
    "print(\"Train RMSE:\", rmse_lasso_train)\n",
    "print(\"Test RMSE:\", rmse_lasso_test)\n",
    "rmse_diff_lasso = rmse_lasso_test - rmse_lasso_train\n",
    "print(\"Difference between RMSE on train and test set (RIDGE REGRESSION):\", rmse_diff_lasso)"
   ]
  },
  {
   "cell_type": "markdown",
   "id": "6025cee9",
   "metadata": {},
   "source": [
    "### Coefficients along with their corresponding feature names for both Ridge and Lasso regression models. "
   ]
  },
  {
   "cell_type": "code",
   "execution_count": 51,
   "id": "610b56ab",
   "metadata": {},
   "outputs": [
    {
     "name": "stdout",
     "output_type": "stream",
     "text": [
      "               Feature  Ridge Coefficient  Lasso Coefficient\n",
      "0      Adult_Mortality          -0.298490          -0.000000\n",
      "1        Infant_Deaths          -0.138151          -0.000000\n",
      "2           Hepatitis            0.030618          -0.000000\n",
      "3             Measles            0.038644          -0.000000\n",
      "4                 BMI            0.098032           0.000000\n",
      "5    Underfive_Deaths           -0.081081          -0.000000\n",
      "6                Polio          -0.031870           0.000000\n",
      "7          Diphtheria            0.110172           0.000000\n",
      "8                  HIV          -0.406225          -0.000000\n",
      "9                  GDP           0.141908           0.000000\n",
      "10          Population          -0.076992          -0.000000\n",
      "11  Malnourished10_19           -0.121597          -0.000000\n",
      "12     Malnourished5_9          -0.072337          -0.000000\n",
      "13        Income_Index          -0.015395           0.000000\n",
      "14           Schooling           0.047727          -0.000000\n",
      "15   Status_Developing          -0.369130          -0.000000\n"
     ]
    }
   ],
   "source": [
    "import pandas as pd\n",
    "\n",
    "# Get feature names\n",
    "feature_names = X.columns\n",
    "\n",
    "# Create a DataFrame to store coefficients for Ridge regression\n",
    "ridge_coef_df = pd.DataFrame({'Feature': feature_names, 'Ridge Coefficient': ridge_model.coef_})\n",
    "\n",
    "# Create a DataFrame to store coefficients for Lasso regression\n",
    "lasso_coef_df = pd.DataFrame({'Feature': feature_names, 'Lasso Coefficient': lasso_model.coef_})\n",
    "\n",
    "# Merge the two DataFrames on the 'Feature' column\n",
    "coefficients_df = pd.merge(ridge_coef_df, lasso_coef_df, on='Feature')\n",
    "\n",
    "print(coefficients_df)\n"
   ]
  },
  {
   "cell_type": "markdown",
   "id": "1bb3e3a1",
   "metadata": {},
   "source": [
    "### GridSearchCV"
   ]
  },
  {
   "cell_type": "markdown",
   "id": "78ec2e35",
   "metadata": {},
   "source": [
    "### Find optimal value of alpha for Ridge Regression"
   ]
  },
  {
   "cell_type": "code",
   "execution_count": 52,
   "id": "1b8d5ed1",
   "metadata": {},
   "outputs": [],
   "source": [
    "from sklearn.linear_model import Ridge\n",
    "from sklearn.model_selection import GridSearchCV\n",
    "from sklearn.metrics import mean_squared_error\n",
    "import numpy as np"
   ]
  },
  {
   "cell_type": "code",
   "execution_count": 53,
   "id": "abafab41",
   "metadata": {},
   "outputs": [],
   "source": [
    "# create a generalized function to calculate the RMSE values test set\n",
    "def get_test_rmse(model):\n",
    "    \n",
    "    # For testing set:\n",
    "    # test_pred: prediction made by the model on the test dataset 'X_test'\n",
    "    # y_test: actual values of the target variable for the test dataset\n",
    "\n",
    "    # predict the output of the target variable from the test data\n",
    "    test_pred = model.predict(X_test)\n",
    "\n",
    "    # MSE for the test data\n",
    "    mse_test = mean_squared_error(Y_test, test_pred)\n",
    "\n",
    "    # take the square root of the MSE to calculate the RMSE\n",
    "    # round the value upto 4 digits using 'round()'\n",
    "    rmse_test = round(np.sqrt(mse_test), 4)\n",
    "\n",
    "    # return the test RMSE\n",
    "    return(rmse_test)"
   ]
  },
  {
   "cell_type": "code",
   "execution_count": 54,
   "id": "e0e513e9",
   "metadata": {},
   "outputs": [],
   "source": [
    "# create a generalized function to calculate the RMSE values test set\n",
    "def get_train_rmse(model):\n",
    "    \n",
    "    # For testing set:\n",
    "    # test_pred: prediction made by the model on the test dataset 'X_test'\n",
    "    # y_test: actual values of the target variable for the test dataset\n",
    "\n",
    "    # predict the output of the target variable from the test data\n",
    "    train_pred = model.predict(X_train)\n",
    "\n",
    "    # MSE for the test data\n",
    "    mse_traint = mean_squared_error(Y_train, train_pred)\n",
    "\n",
    "    # take the square root of the MSE to calculate the RMSE\n",
    "    # round the value upto 4 digits using 'round()'\n",
    "    rmse_train = round(np.sqrt(mse_train), 4)\n",
    "\n",
    "    # return the test RMSE\n",
    "    return(rmse_train)"
   ]
  },
  {
   "cell_type": "code",
   "execution_count": 55,
   "id": "4246e39d",
   "metadata": {},
   "outputs": [
    {
     "name": "stdout",
     "output_type": "stream",
     "text": [
      "Best parameters for Ridge Regression:  {'alpha': 10} \n",
      "\n",
      "RMSE on test set: 0.5766\n",
      "RMSE on train set: 0.4774\n",
      "Difference between RMSE on train and test set (Ridge REGRESSION): 0.09920000000000001\n"
     ]
    }
   ],
   "source": [
    "# create a dictionary with hyperparameters and its values\n",
    "# 'alpha' assigns the regularization strength to the model\n",
    "# 'max_iter' assigns maximum number of iterations for the model to run\n",
    "tuned_paramaters = [{'alpha':[1e-15, 1e-10, 1e-8, 1e-4,1e-3, 1e-2, 0.1, 1, 5, 10, 20, 40, 60, 80, 100]}]\n",
    " \n",
    "# initiate the ridge regression model\n",
    "ridge = Ridge()\n",
    "\n",
    "# use GridSearchCV() to find the optimal value of alpha\n",
    "# estimator: pass the ridge regression model\n",
    "# param_grid: pass the list 'tuned_parameters'\n",
    "# cv: number of folds in k-fold i.e. here cv = 10\n",
    "ridge_grid = GridSearchCV(estimator = ridge, \n",
    "                          param_grid = tuned_paramaters, \n",
    "                          cv = 10)\n",
    "\n",
    "# fit the model on X_train and y_train using fit()\n",
    "ridge_grid.fit(X_train, Y_train)\n",
    "\n",
    "# get the best parameters\n",
    "print('Best parameters for Ridge Regression: ', ridge_grid.best_params_, '\\n')\n",
    "\n",
    "# print the RMSE for test set using the model having optimal value of alpha\n",
    "print('RMSE on test set:', get_test_rmse(ridge_grid))\n",
    "print('RMSE on train set:', get_train_rmse(ridge_grid))\n",
    "print(\"Difference between RMSE on train and test set (Ridge REGRESSION):\",get_test_rmse(ridge_grid)-get_train_rmse(ridge_grid))"
   ]
  },
  {
   "cell_type": "markdown",
   "id": "39b54297",
   "metadata": {},
   "source": [
    "### Find optimal value of alpha for Lasso Regression"
   ]
  },
  {
   "cell_type": "code",
   "execution_count": 56,
   "id": "2b41d006",
   "metadata": {},
   "outputs": [
    {
     "name": "stdout",
     "output_type": "stream",
     "text": [
      "Best parameters for Lasso Regression:  {'alpha': 0.01} \n",
      "\n",
      "RMSE on test set: 0.4481\n",
      "RMSE on train set: 0.4774\n",
      "Difference between RMSE on train and test set (Lasso REGRESSION): -0.029299999999999993\n"
     ]
    }
   ],
   "source": [
    "# create a dictionary with hyperparameters and its values\n",
    "# 'alpha' assigns the regularization strength to the model\n",
    "# 'max_iter' assigns maximum number of iterations for the model to run\n",
    "tuned_paramaters = [{'alpha':[1e-15, 1e-10, 1e-8, 0.0001, 0.001, 0.01, 0.1, 1, 5, 10, 20]}]\n",
    "                     \n",
    "# 'max_iter':100,500,1000,1500,2000\n",
    " \n",
    "# initiate the lasso regression model \n",
    "lasso = Lasso()\n",
    "\n",
    "# use GridSearchCV() to find the optimal value of alpha\n",
    "# estimator: pass the lasso regression model\n",
    "# param_grid: pass the list 'tuned_parameters'\n",
    "# cv: number of folds in k-fold i.e. here cv = 10\n",
    "lasso_grid = GridSearchCV(estimator = lasso, \n",
    "                          param_grid = tuned_paramaters, \n",
    "                          cv = 10)\n",
    "\n",
    "# fit the model on X_train and y_train using fit()\n",
    "lasso_grid.fit(X_train, Y_train)\n",
    "\n",
    "# get the best parameters\n",
    "print('Best parameters for Lasso Regression: ', lasso_grid.best_params_, '\\n')\n",
    "\n",
    "# print the RMSE for the test set using the model having optimal value of alpha\n",
    "print('RMSE on test set:', get_test_rmse(lasso_grid))\n",
    "print('RMSE on train set:', get_train_rmse(lasso_grid))\n",
    "print(\"Difference between RMSE on train and test set (Lasso REGRESSION):\",get_test_rmse(lasso_grid)-get_train_rmse(lasso_grid))"
   ]
  },
  {
   "cell_type": "markdown",
   "id": "3e84d839",
   "metadata": {},
   "source": [
    "### Find optimal value of alpha for Elastic Net Regression"
   ]
  },
  {
   "cell_type": "code",
   "execution_count": 57,
   "id": "87864616",
   "metadata": {},
   "outputs": [
    {
     "name": "stdout",
     "output_type": "stream",
     "text": [
      "Best parameters for Elastic Net Regression:  {'alpha': 0.1, 'l1_ratio': 0.1} \n",
      "\n",
      "RMSE on test set: 0.4782\n",
      "RMSE on train set: 0.4774\n",
      "Difference between RMSE on train and test set (Elastic REGRESSION): 0.0008000000000000229\n"
     ]
    }
   ],
   "source": [
    "# create a dictionary with hyperparameters and its values\n",
    "# 'alpha' assigns the regularization strength to the model\n",
    "# 'l1_ratio' is the ElasticNet mixing parameter\n",
    "# 'max_iter' assigns maximum number of iterations for the model to run\n",
    "tuned_paramaters = [{'alpha':[0.0001, 0.001, 0.01, 0.1, 1, 5, 10, 20, 40, 60],\n",
    "                      'l1_ratio':[0.0001, 0.0002, 0.001, 0.01, 0.1, 0.2]}]\n",
    "\n",
    "# initiate the elastic net regression model  \n",
    "enet = ElasticNet()\n",
    "\n",
    "# use GridSearchCV() to find the optimal value of alpha and l1_ratio\n",
    "# estimator: pass the elastic net regression model\n",
    "# param_grid: pass the list 'tuned_parameters'\n",
    "# cv: number of folds in k-fold i.e. here cv = 10\n",
    "enet_grid = GridSearchCV(estimator = enet, \n",
    "                          param_grid = tuned_paramaters, \n",
    "                          cv = 10)\n",
    "\n",
    "# fit the model on X_train and y_train using fit()\n",
    "enet_grid.fit(X_train, Y_train)\n",
    "\n",
    "# get the best parameters\n",
    "print('Best parameters for Elastic Net Regression: ', enet_grid.best_params_, '\\n')\n",
    "\n",
    "# print the RMSE for the test set using the model having optimal value of alpha and l1-ratio\n",
    "print('RMSE on test set:', get_test_rmse(enet_grid))\n",
    "print('RMSE on train set:', get_train_rmse(enet_grid))\n",
    "print(\"Difference between RMSE on train and test set (Elastic REGRESSION):\",get_test_rmse(enet_grid)-get_train_rmse(enet_grid))"
   ]
  },
  {
   "cell_type": "markdown",
   "id": "7a47db1b",
   "metadata": {},
   "source": [
    "#### Final Summary"
   ]
  },
  {
   "cell_type": "code",
   "execution_count": 58,
   "id": "d6909c8a",
   "metadata": {},
   "outputs": [],
   "source": [
    "results_df = pd.DataFrame({\n",
    "    'Model': ['OLS', 'Ridge', 'Lasso','Girdsearch_Ridge','Gridesearch_Lasso','Elasticnet_Regression'],\n",
    "    'Train RMSE': [rmse_train_ols, rmse_ridge_train, rmse_lasso_train, get_train_rmse(ridge_grid), get_train_rmse(lasso_grid),get_train_rmse(enet_grid)],\n",
    "    'Test RMSE': [rmse_test_ols, rmse_ridge_test, rmse_lasso_test, get_test_rmse(ridge_grid), get_test_rmse(lasso_grid),get_test_rmse(enet_grid)],\n",
    "    'RMSE Difference': [rmse_diff_ols, rmse_diff_ridge, rmse_diff_lasso, get_test_rmse(ridge_grid)-get_train_rmse(ridge_grid), get_test_rmse(lasso_grid)-get_train_rmse(lasso_grid),get_test_rmse(enet_grid)-get_train_rmse(enet_grid)]\n",
    "})"
   ]
  },
  {
   "cell_type": "code",
   "execution_count": 59,
   "id": "f417c63f",
   "metadata": {},
   "outputs": [
    {
     "data": {
      "text/html": [
       "<div>\n",
       "<style scoped>\n",
       "    .dataframe tbody tr th:only-of-type {\n",
       "        vertical-align: middle;\n",
       "    }\n",
       "\n",
       "    .dataframe tbody tr th {\n",
       "        vertical-align: top;\n",
       "    }\n",
       "\n",
       "    .dataframe thead th {\n",
       "        text-align: right;\n",
       "    }\n",
       "</style>\n",
       "<table border=\"1\" class=\"dataframe\">\n",
       "  <thead>\n",
       "    <tr style=\"text-align: right;\">\n",
       "      <th></th>\n",
       "      <th>Model</th>\n",
       "      <th>Train RMSE</th>\n",
       "      <th>Test RMSE</th>\n",
       "      <th>RMSE Difference</th>\n",
       "    </tr>\n",
       "  </thead>\n",
       "  <tbody>\n",
       "    <tr>\n",
       "      <th>0</th>\n",
       "      <td>OLS</td>\n",
       "      <td>0.477360</td>\n",
       "      <td>0.660660</td>\n",
       "      <td>0.183300</td>\n",
       "    </tr>\n",
       "    <tr>\n",
       "      <th>1</th>\n",
       "      <td>Ridge</td>\n",
       "      <td>0.458409</td>\n",
       "      <td>0.684048</td>\n",
       "      <td>0.225639</td>\n",
       "    </tr>\n",
       "    <tr>\n",
       "      <th>2</th>\n",
       "      <td>Lasso</td>\n",
       "      <td>1.039072</td>\n",
       "      <td>0.828112</td>\n",
       "      <td>-0.210959</td>\n",
       "    </tr>\n",
       "    <tr>\n",
       "      <th>3</th>\n",
       "      <td>Girdsearch_Ridge</td>\n",
       "      <td>0.477400</td>\n",
       "      <td>0.576600</td>\n",
       "      <td>0.099200</td>\n",
       "    </tr>\n",
       "    <tr>\n",
       "      <th>4</th>\n",
       "      <td>Gridesearch_Lasso</td>\n",
       "      <td>0.477400</td>\n",
       "      <td>0.448100</td>\n",
       "      <td>-0.029300</td>\n",
       "    </tr>\n",
       "    <tr>\n",
       "      <th>5</th>\n",
       "      <td>Elasticnet_Regression</td>\n",
       "      <td>0.477400</td>\n",
       "      <td>0.478200</td>\n",
       "      <td>0.000800</td>\n",
       "    </tr>\n",
       "  </tbody>\n",
       "</table>\n",
       "</div>"
      ],
      "text/plain": [
       "                   Model  Train RMSE  Test RMSE  RMSE Difference\n",
       "0                    OLS    0.477360   0.660660         0.183300\n",
       "1                  Ridge    0.458409   0.684048         0.225639\n",
       "2                  Lasso    1.039072   0.828112        -0.210959\n",
       "3       Girdsearch_Ridge    0.477400   0.576600         0.099200\n",
       "4      Gridesearch_Lasso    0.477400   0.448100        -0.029300\n",
       "5  Elasticnet_Regression    0.477400   0.478200         0.000800"
      ]
     },
     "execution_count": 59,
     "metadata": {},
     "output_type": "execute_result"
    }
   ],
   "source": [
    "results_df"
   ]
  },
  {
   "cell_type": "markdown",
   "id": "29b74c15",
   "metadata": {},
   "source": [
    "Based on the RMSE values and the RMSE difference between train and test sets, a lower RMSE is desirable as it indicates better performance. Additionally, a smaller RMSE difference between train and test sets suggests better generalization of the model to unseen data."
   ]
  },
  {
   "cell_type": "markdown",
   "id": "2a98f9a2",
   "metadata": {},
   "source": [
    "In this case, the ***Grid Search Lasso Regression*** model has the lowest test RMSE (0.448059) and a small RMSE difference (-0.029300), indicating good performance and generalization. Therefore, you can conclude that the Grid Search Lasso Regression model is the best among the models evaluated."
   ]
  },
  {
   "cell_type": "code",
   "execution_count": 60,
   "id": "6ed4e79e",
   "metadata": {},
   "outputs": [
    {
     "data": {
      "image/png": "[encoded data removed]",
      "text/plain": [
       "<Figure size 1000x600 with 1 Axes>"
      ]
     },
     "metadata": {},
     "output_type": "display_data"
    }
   ],
   "source": [
    "import matplotlib.pyplot as plt\n",
    "\n",
    "# Make predictions on the test set\n",
    "y_pred = lasso_grid.predict(X_test)\n",
    "\n",
    "# Plot the actual vs. predicted values\n",
    "plt.figure(figsize=(10, 6))\n",
    "plt.scatter(Y_test, y_pred, color='blue', alpha=0.6)\n",
    "plt.plot([Y_test.min(), Y_test.max()], [Y_test.min(), Y_test.max()], 'k--', lw=2)\n",
    "plt.xlabel('Actual Life Expectancy')\n",
    "plt.ylabel('Predicted Life Expectancy')\n",
    "plt.title('Actual vs. Predicted Life Expectancy (Grid Search Lasso Regression)')\n",
    "plt.show()\n"
   ]
  },
  {
   "cell_type": "code",
   "execution_count": 61,
   "id": "19e002db",
   "metadata": {},
   "outputs": [],
   "source": [
    "# Get the best Lasso model from the grid search\n",
    "best_lasso_model = lasso_grid.best_estimator_\n",
    "\n",
    "# Extract the coefficients and corresponding feature names\n",
    "lasso_coefficients = best_lasso_model.coef_\n",
    "feature_names = X.columns\n",
    "\n",
    "# Create a DataFrame to store the coefficients and corresponding feature names\n",
    "lasso_coefficients_df = pd.DataFrame({\n",
    "    'Feature': feature_names,\n",
    "    'Coefficient': lasso_coefficients\n",
    "})\n",
    "\n",
    "# Define a threshold to filter out features with coefficients close to zero\n",
    "threshold = 0.05  # Adjust this threshold as needed\n",
    "\n",
    "# Filter out the features with non-zero coefficients (important features)\n",
    "important_features = lasso_coefficients_df[lasso_coefficients_df['Coefficient'] != 0]\n",
    "\n",
    "# Filter out features with coefficients close to zero or with lower absolute coefficient values\n",
    "important_features_filtered = important_features[abs(important_features['Coefficient']) >= threshold]\n"
   ]
  },
  {
   "cell_type": "markdown",
   "id": "41a690f9",
   "metadata": {},
   "source": [
    "### Crucial Predictors Identified by GridSearchCV Lasso"
   ]
  },
  {
   "cell_type": "code",
   "execution_count": 62,
   "id": "69ca3e82",
   "metadata": {},
   "outputs": [
    {
     "name": "stdout",
     "output_type": "stream",
     "text": [
      "Filtered Important Features and Coefficients:\n",
      "               Feature  Coefficient\n",
      "0      Adult_Mortality    -0.298900\n",
      "4                 BMI      0.095274\n",
      "7          Diphtheria      0.095783\n",
      "8                  HIV    -0.407133\n",
      "9                  GDP     0.137551\n",
      "10          Population    -0.073702\n",
      "11  Malnourished10_19     -0.133030\n",
      "15   Status_Developing    -0.386962\n"
     ]
    }
   ],
   "source": [
    "print(\"Filtered Important Features and Coefficients:\")\n",
    "print(important_features_filtered)"
   ]
  },
  {
   "cell_type": "code",
   "execution_count": 63,
   "id": "19b456b7",
   "metadata": {},
   "outputs": [],
   "source": [
    "# Drop the row corresponding to the 'Population' feature\n",
    "important_features_filtered.drop(index=10, inplace=True)"
   ]
  },
  {
   "cell_type": "code",
   "execution_count": 64,
   "id": "7c39174d",
   "metadata": {},
   "outputs": [
    {
     "data": {
      "text/html": [
       "<div>\n",
       "<style scoped>\n",
       "    .dataframe tbody tr th:only-of-type {\n",
       "        vertical-align: middle;\n",
       "    }\n",
       "\n",
       "    .dataframe tbody tr th {\n",
       "        vertical-align: top;\n",
       "    }\n",
       "\n",
       "    .dataframe thead th {\n",
       "        text-align: right;\n",
       "    }\n",
       "</style>\n",
       "<table border=\"1\" class=\"dataframe\">\n",
       "  <thead>\n",
       "    <tr style=\"text-align: right;\">\n",
       "      <th></th>\n",
       "      <th>Feature</th>\n",
       "      <th>Coefficient</th>\n",
       "    </tr>\n",
       "  </thead>\n",
       "  <tbody>\n",
       "    <tr>\n",
       "      <th>0</th>\n",
       "      <td>Adult_Mortality</td>\n",
       "      <td>-0.298900</td>\n",
       "    </tr>\n",
       "    <tr>\n",
       "      <th>4</th>\n",
       "      <td>BMI</td>\n",
       "      <td>0.095274</td>\n",
       "    </tr>\n",
       "    <tr>\n",
       "      <th>7</th>\n",
       "      <td>Diphtheria</td>\n",
       "      <td>0.095783</td>\n",
       "    </tr>\n",
       "    <tr>\n",
       "      <th>8</th>\n",
       "      <td>HIV</td>\n",
       "      <td>-0.407133</td>\n",
       "    </tr>\n",
       "    <tr>\n",
       "      <th>9</th>\n",
       "      <td>GDP</td>\n",
       "      <td>0.137551</td>\n",
       "    </tr>\n",
       "    <tr>\n",
       "      <th>11</th>\n",
       "      <td>Malnourished10_19</td>\n",
       "      <td>-0.133030</td>\n",
       "    </tr>\n",
       "    <tr>\n",
       "      <th>15</th>\n",
       "      <td>Status_Developing</td>\n",
       "      <td>-0.386962</td>\n",
       "    </tr>\n",
       "  </tbody>\n",
       "</table>\n",
       "</div>"
      ],
      "text/plain": [
       "               Feature  Coefficient\n",
       "0      Adult_Mortality    -0.298900\n",
       "4                 BMI      0.095274\n",
       "7          Diphtheria      0.095783\n",
       "8                  HIV    -0.407133\n",
       "9                  GDP     0.137551\n",
       "11  Malnourished10_19     -0.133030\n",
       "15   Status_Developing    -0.386962"
      ]
     },
     "execution_count": 64,
     "metadata": {},
     "output_type": "execute_result"
    }
   ],
   "source": [
    "important_features_filtered"
   ]
  },
  {
   "cell_type": "code",
   "execution_count": 65,
   "id": "d4e4eb89",
   "metadata": {},
   "outputs": [
    {
     "data": {
      "image/png": "[encoded data removed]",
      "text/plain": [
       "<Figure size 1000x600 with 1 Axes>"
      ]
     },
     "metadata": {},
     "output_type": "display_data"
    }
   ],
   "source": [
    "import matplotlib.pyplot as plt\n",
    "\n",
    "# Define the features and their corresponding coefficients\n",
    "features = ['Adult_Mortality', 'BMI', 'Diphtheria', 'HIV', 'GDP', 'Malnourished10_19', 'Status_Developing']\n",
    "coefficients = [-0.298900, 0.095274, 0.095783, -0.407133, 0.137551, -0.133030, -0.386962]\n",
    "\n",
    "# Create a bar plot\n",
    "plt.figure(figsize=(10, 6))\n",
    "plt.barh(features, coefficients, color='skyblue')\n",
    "plt.xlabel('Coefficient Value')\n",
    "plt.ylabel('Feature')\n",
    "plt.title('Impact of Features on Life Expectancy')\n",
    "plt.grid(axis='x', linestyle='--', alpha=0.7)\n",
    "plt.show()\n"
   ]
  },
  {
   "cell_type": "markdown",
   "id": "5a1ee09c",
   "metadata": {},
   "source": [
    "### Insights on Key Independent Variables Contributing to Life Expectancy (Y)"
   ]
  },
  {
   "cell_type": "markdown",
   "id": "92a261e0",
   "metadata": {},
   "source": [
    "**Adult Mortality**: A decrease in adult mortality rate corresponds to an increase in life expectancy, indicating that effective healthcare interventions and disease management significantly impact life expectancy.\n",
    "\n",
    "**BMI (Body Mass Index)**: Higher BMI values may suggest better nutrition and overall health, contributing positively to life expectancy. However, excessively high BMI values could indicate obesity-related health issues, potentially reducing life expectancy.\n",
    "\n",
    "**Diphtheria Immunization Coverage**: Higher diphtheria immunization coverage indicates better public health infrastructure and vaccination programs, which can prevent infectious diseases and improve life expectancy.\n",
    "HIV Prevalence: Higher HIV prevalence leads to a decrease in life expectancy due to increased mortality rates, underscoring the importance of HIV prevention, treatment, and public health initiatives.\n",
    "\n",
    "**GDP (Gross Domestic Product) per Capita**: Countries with higher GDP per capita tend to have better access to healthcare, infrastructure, and resources, positively affecting life expectancy by improving living standards and healthcare services.\n",
    "\n",
    "**Malnutrition (Age 10-19)**: Malnutrition among adolescents can lead to growth stunting, weakened immune systems, and increased susceptibility to diseases, negatively impacting life expectancy.\n",
    "\n",
    "**Development Status (Developing)**: Countries classified as developing may face challenges such as inadequate healthcare infrastructure, poverty, and limited access to education, which can negatively affect life expectancy compared to developed countries."
   ]
  },
  {
   "cell_type": "code",
   "execution_count": null,
   "id": "59d0be42",
   "metadata": {},
   "outputs": [],
   "source": []
  },
  {
   "cell_type": "code",
   "execution_count": null,
   "id": "c6ffb69d",
   "metadata": {},
   "outputs": [],
   "source": []
  }
 ],
 "metadata": {
  "kernelspec": {
   "display_name": "Python 3 (ipykernel)",
   "language": "python",
   "name": "python3"
  },
  "language_info": {
   "codemirror_mode": {
    "name": "ipython",
    "version": 3
   },
   "file_extension": ".py",
   "mimetype": "text/x-python",
   "name": "python",
   "nbconvert_exporter": "python",
   "pygments_lexer": "ipython3",
   "version": "3.11.5"
  }
 },
 "nbformat": 4,
 "nbformat_minor": 5
}
